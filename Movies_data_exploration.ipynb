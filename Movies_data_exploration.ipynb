{
  "nbformat": 4,
  "nbformat_minor": 0,
  "metadata": {
    "colab": {
      "name": "Movies-data-exploration.ipynb",
      "provenance": [],
      "collapsed_sections": [
        "i5yCbOG5nnXa",
        "n0FS4ufAbZP2",
        "fXRZa3ONgKKL",
        "babK_eWsdvcW",
        "3IFDTrhkrNl3"
      ],
      "toc_visible": true
    },
    "kernelspec": {
      "name": "python3",
      "display_name": "Python 3"
    },
    "language_info": {
      "name": "python"
    }
  },
  "cells": [
    {
      "cell_type": "markdown",
      "metadata": {
        "id": "IYPbO0vFKElr"
      },
      "source": [
        "# Data understanding"
      ]
    },
    {
      "cell_type": "markdown",
      "metadata": {
        "id": "GEi8lo6lKFmQ"
      },
      "source": [
        "## 1.Dataset Description"
      ]
    },
    {
      "cell_type": "markdown",
      "metadata": {
        "id": "j4Vfcn8-ObPm"
      },
      "source": [
        "**Dataset description from Kaggle :**\n",
        "\n",
        "These files contain metadata for all 45,000 movies listed in the Full MovieLens Dataset. The dataset consists of movies released on or before July 2017. Data points include cast, crew, plot keywords, budget, revenue, posters, release dates, languages, production companies, countries, TMDB vote counts and vote averages.\n",
        "\n",
        "This dataset also has files containing 26 million ratings from 270,000 users for all 45,000 movies. Ratings are on a scale of 1-5 and have been obtained from the official GroupLens website."
      ]
    },
    {
      "cell_type": "markdown",
      "metadata": {
        "id": "OwqlvGjOPAqP"
      },
      "source": [
        "**Content :**\n",
        "\n",
        "This dataset consists of the following files:\n",
        "\n",
        "**movies_metadata.csv**: The main Movies Metadata file. Contains information on 45,000 movies featured in the Full MovieLens dataset. Features include posters, backdrops, budget, revenue, release dates, languages, production countries and companies.\n",
        "\n",
        "**keywords.csv**: Contains the movie plot keywords for our MovieLens movies. Available in the form of a stringified JSON Object.\n",
        "\n",
        "**credits.csv**: Consists of Cast and Crew Information for all our movies. Available in the form of a stringified JSON Object.\n",
        "\n",
        "**links.csv**: The file that contains the TMDB and IMDB IDs of all the movies featured in the Full MovieLens dataset.\n",
        "\n",
        "**links_small.csv**: Contains the TMDB and IMDB IDs of a small subset of 9,000 movies of the Full Dataset.\n",
        "\n",
        "**ratings_small.csv**: The subset of 100,000 ratings from 700 users on 9,000 movies.\n",
        "\n",
        "The Full MovieLens Dataset consisting of 26 million ratings and 750,000 tag applications from 270,000 users on all the 45,000 movies in this dataset can be accessed here: *https://grouplens.org/datasets/movielens/latest/*"
      ]
    },
    {
      "cell_type": "code",
      "metadata": {
        "colab": {
          "base_uri": "https://localhost:8080/"
        },
        "id": "ukz2w8DQKDaP",
        "outputId": "d841be65-8bed-4bdf-d74c-098ab9960a96"
      },
      "source": [
        "from google.colab import drive\n",
        "drive.mount('/content/drive')"
      ],
      "execution_count": null,
      "outputs": [
        {
          "output_type": "stream",
          "name": "stdout",
          "text": [
            "Drive already mounted at /content/drive; to attempt to forcibly remount, call drive.mount(\"/content/drive\", force_remount=True).\n"
          ]
        }
      ]
    },
    {
      "cell_type": "code",
      "metadata": {
        "id": "Vy40U6PDK_9a"
      },
      "source": [
        "%matplotlib inline\n",
        "import pandas as pd\n",
        "import numpy as np\n",
        "import ast\n",
        "import matplotlib.pyplot as plt\n",
        "import seaborn as sns\n",
        "from sklearn.model_selection import train_test_split\n",
        "from sklearn.ensemble import GradientBoostingClassifier, GradientBoostingRegressor\n",
        "from sklearn.dummy import DummyClassifier, DummyRegressor"
      ],
      "execution_count": null,
      "outputs": []
    },
    {
      "cell_type": "markdown",
      "metadata": {
        "id": "mScYqvovR11Q"
      },
      "source": [
        "### movies_metadata data "
      ]
    },
    {
      "cell_type": "code",
      "metadata": {
        "colab": {
          "base_uri": "https://localhost:8080/",
          "height": 966
        },
        "id": "HAK2RWDHKwDF",
        "outputId": "12a6f33c-eb2d-4692-db40-142b38334373"
      },
      "source": [
        "df = pd.read_csv('/content/drive/MyDrive/BDA/input/movies_metadata.csv')\n",
        "df.head().transpose()"
      ],
      "execution_count": null,
      "outputs": [
        {
          "output_type": "stream",
          "name": "stderr",
          "text": [
            "/usr/local/lib/python3.7/dist-packages/IPython/core/interactiveshell.py:2718: DtypeWarning: Columns (10) have mixed types.Specify dtype option on import or set low_memory=False.\n",
            "  interactivity=interactivity, compiler=compiler, result=result)\n"
          ]
        },
        {
          "output_type": "execute_result",
          "data": {
            "text/html": [
              "<div>\n",
              "<style scoped>\n",
              "    .dataframe tbody tr th:only-of-type {\n",
              "        vertical-align: middle;\n",
              "    }\n",
              "\n",
              "    .dataframe tbody tr th {\n",
              "        vertical-align: top;\n",
              "    }\n",
              "\n",
              "    .dataframe thead th {\n",
              "        text-align: right;\n",
              "    }\n",
              "</style>\n",
              "<table border=\"1\" class=\"dataframe\">\n",
              "  <thead>\n",
              "    <tr style=\"text-align: right;\">\n",
              "      <th></th>\n",
              "      <th>0</th>\n",
              "      <th>1</th>\n",
              "      <th>2</th>\n",
              "      <th>3</th>\n",
              "      <th>4</th>\n",
              "    </tr>\n",
              "  </thead>\n",
              "  <tbody>\n",
              "    <tr>\n",
              "      <th>adult</th>\n",
              "      <td>False</td>\n",
              "      <td>False</td>\n",
              "      <td>False</td>\n",
              "      <td>False</td>\n",
              "      <td>False</td>\n",
              "    </tr>\n",
              "    <tr>\n",
              "      <th>belongs_to_collection</th>\n",
              "      <td>{'id': 10194, 'name': 'Toy Story Collection', ...</td>\n",
              "      <td>NaN</td>\n",
              "      <td>{'id': 119050, 'name': 'Grumpy Old Men Collect...</td>\n",
              "      <td>NaN</td>\n",
              "      <td>{'id': 96871, 'name': 'Father of the Bride Col...</td>\n",
              "    </tr>\n",
              "    <tr>\n",
              "      <th>budget</th>\n",
              "      <td>30000000</td>\n",
              "      <td>65000000</td>\n",
              "      <td>0</td>\n",
              "      <td>16000000</td>\n",
              "      <td>0</td>\n",
              "    </tr>\n",
              "    <tr>\n",
              "      <th>genres</th>\n",
              "      <td>[{'id': 16, 'name': 'Animation'}, {'id': 35, '...</td>\n",
              "      <td>[{'id': 12, 'name': 'Adventure'}, {'id': 14, '...</td>\n",
              "      <td>[{'id': 10749, 'name': 'Romance'}, {'id': 35, ...</td>\n",
              "      <td>[{'id': 35, 'name': 'Comedy'}, {'id': 18, 'nam...</td>\n",
              "      <td>[{'id': 35, 'name': 'Comedy'}]</td>\n",
              "    </tr>\n",
              "    <tr>\n",
              "      <th>homepage</th>\n",
              "      <td>http://toystory.disney.com/toy-story</td>\n",
              "      <td>NaN</td>\n",
              "      <td>NaN</td>\n",
              "      <td>NaN</td>\n",
              "      <td>NaN</td>\n",
              "    </tr>\n",
              "    <tr>\n",
              "      <th>id</th>\n",
              "      <td>862</td>\n",
              "      <td>8844</td>\n",
              "      <td>15602</td>\n",
              "      <td>31357</td>\n",
              "      <td>11862</td>\n",
              "    </tr>\n",
              "    <tr>\n",
              "      <th>imdb_id</th>\n",
              "      <td>tt0114709</td>\n",
              "      <td>tt0113497</td>\n",
              "      <td>tt0113228</td>\n",
              "      <td>tt0114885</td>\n",
              "      <td>tt0113041</td>\n",
              "    </tr>\n",
              "    <tr>\n",
              "      <th>original_language</th>\n",
              "      <td>en</td>\n",
              "      <td>en</td>\n",
              "      <td>en</td>\n",
              "      <td>en</td>\n",
              "      <td>en</td>\n",
              "    </tr>\n",
              "    <tr>\n",
              "      <th>original_title</th>\n",
              "      <td>Toy Story</td>\n",
              "      <td>Jumanji</td>\n",
              "      <td>Grumpier Old Men</td>\n",
              "      <td>Waiting to Exhale</td>\n",
              "      <td>Father of the Bride Part II</td>\n",
              "    </tr>\n",
              "    <tr>\n",
              "      <th>overview</th>\n",
              "      <td>Led by Woody, Andy's toys live happily in his ...</td>\n",
              "      <td>When siblings Judy and Peter discover an encha...</td>\n",
              "      <td>A family wedding reignites the ancient feud be...</td>\n",
              "      <td>Cheated on, mistreated and stepped on, the wom...</td>\n",
              "      <td>Just when George Banks has recovered from his ...</td>\n",
              "    </tr>\n",
              "    <tr>\n",
              "      <th>popularity</th>\n",
              "      <td>21.9469</td>\n",
              "      <td>17.0155</td>\n",
              "      <td>11.7129</td>\n",
              "      <td>3.85949</td>\n",
              "      <td>8.38752</td>\n",
              "    </tr>\n",
              "    <tr>\n",
              "      <th>poster_path</th>\n",
              "      <td>/rhIRbceoE9lR4veEXuwCC2wARtG.jpg</td>\n",
              "      <td>/vzmL6fP7aPKNKPRTFnZmiUfciyV.jpg</td>\n",
              "      <td>/6ksm1sjKMFLbO7UY2i6G1ju9SML.jpg</td>\n",
              "      <td>/16XOMpEaLWkrcPqSQqhTmeJuqQl.jpg</td>\n",
              "      <td>/e64sOI48hQXyru7naBFyssKFxVd.jpg</td>\n",
              "    </tr>\n",
              "    <tr>\n",
              "      <th>production_companies</th>\n",
              "      <td>[{'name': 'Pixar Animation Studios', 'id': 3}]</td>\n",
              "      <td>[{'name': 'TriStar Pictures', 'id': 559}, {'na...</td>\n",
              "      <td>[{'name': 'Warner Bros.', 'id': 6194}, {'name'...</td>\n",
              "      <td>[{'name': 'Twentieth Century Fox Film Corporat...</td>\n",
              "      <td>[{'name': 'Sandollar Productions', 'id': 5842}...</td>\n",
              "    </tr>\n",
              "    <tr>\n",
              "      <th>production_countries</th>\n",
              "      <td>[{'iso_3166_1': 'US', 'name': 'United States o...</td>\n",
              "      <td>[{'iso_3166_1': 'US', 'name': 'United States o...</td>\n",
              "      <td>[{'iso_3166_1': 'US', 'name': 'United States o...</td>\n",
              "      <td>[{'iso_3166_1': 'US', 'name': 'United States o...</td>\n",
              "      <td>[{'iso_3166_1': 'US', 'name': 'United States o...</td>\n",
              "    </tr>\n",
              "    <tr>\n",
              "      <th>release_date</th>\n",
              "      <td>1995-10-30</td>\n",
              "      <td>1995-12-15</td>\n",
              "      <td>1995-12-22</td>\n",
              "      <td>1995-12-22</td>\n",
              "      <td>1995-02-10</td>\n",
              "    </tr>\n",
              "    <tr>\n",
              "      <th>revenue</th>\n",
              "      <td>3.73554e+08</td>\n",
              "      <td>2.62797e+08</td>\n",
              "      <td>0</td>\n",
              "      <td>8.14522e+07</td>\n",
              "      <td>7.65789e+07</td>\n",
              "    </tr>\n",
              "    <tr>\n",
              "      <th>runtime</th>\n",
              "      <td>81</td>\n",
              "      <td>104</td>\n",
              "      <td>101</td>\n",
              "      <td>127</td>\n",
              "      <td>106</td>\n",
              "    </tr>\n",
              "    <tr>\n",
              "      <th>spoken_languages</th>\n",
              "      <td>[{'iso_639_1': 'en', 'name': 'English'}]</td>\n",
              "      <td>[{'iso_639_1': 'en', 'name': 'English'}, {'iso...</td>\n",
              "      <td>[{'iso_639_1': 'en', 'name': 'English'}]</td>\n",
              "      <td>[{'iso_639_1': 'en', 'name': 'English'}]</td>\n",
              "      <td>[{'iso_639_1': 'en', 'name': 'English'}]</td>\n",
              "    </tr>\n",
              "    <tr>\n",
              "      <th>status</th>\n",
              "      <td>Released</td>\n",
              "      <td>Released</td>\n",
              "      <td>Released</td>\n",
              "      <td>Released</td>\n",
              "      <td>Released</td>\n",
              "    </tr>\n",
              "    <tr>\n",
              "      <th>tagline</th>\n",
              "      <td>NaN</td>\n",
              "      <td>Roll the dice and unleash the excitement!</td>\n",
              "      <td>Still Yelling. Still Fighting. Still Ready for...</td>\n",
              "      <td>Friends are the people who let you be yourself...</td>\n",
              "      <td>Just When His World Is Back To Normal... He's ...</td>\n",
              "    </tr>\n",
              "    <tr>\n",
              "      <th>title</th>\n",
              "      <td>Toy Story</td>\n",
              "      <td>Jumanji</td>\n",
              "      <td>Grumpier Old Men</td>\n",
              "      <td>Waiting to Exhale</td>\n",
              "      <td>Father of the Bride Part II</td>\n",
              "    </tr>\n",
              "    <tr>\n",
              "      <th>video</th>\n",
              "      <td>False</td>\n",
              "      <td>False</td>\n",
              "      <td>False</td>\n",
              "      <td>False</td>\n",
              "      <td>False</td>\n",
              "    </tr>\n",
              "    <tr>\n",
              "      <th>vote_average</th>\n",
              "      <td>7.7</td>\n",
              "      <td>6.9</td>\n",
              "      <td>6.5</td>\n",
              "      <td>6.1</td>\n",
              "      <td>5.7</td>\n",
              "    </tr>\n",
              "    <tr>\n",
              "      <th>vote_count</th>\n",
              "      <td>5415</td>\n",
              "      <td>2413</td>\n",
              "      <td>92</td>\n",
              "      <td>34</td>\n",
              "      <td>173</td>\n",
              "    </tr>\n",
              "  </tbody>\n",
              "</table>\n",
              "</div>"
            ],
            "text/plain": [
              "                                                                       0  ...                                                  4\n",
              "adult                                                              False  ...                                              False\n",
              "belongs_to_collection  {'id': 10194, 'name': 'Toy Story Collection', ...  ...  {'id': 96871, 'name': 'Father of the Bride Col...\n",
              "budget                                                          30000000  ...                                                  0\n",
              "genres                 [{'id': 16, 'name': 'Animation'}, {'id': 35, '...  ...                     [{'id': 35, 'name': 'Comedy'}]\n",
              "homepage                            http://toystory.disney.com/toy-story  ...                                                NaN\n",
              "id                                                                   862  ...                                              11862\n",
              "imdb_id                                                        tt0114709  ...                                          tt0113041\n",
              "original_language                                                     en  ...                                                 en\n",
              "original_title                                                 Toy Story  ...                        Father of the Bride Part II\n",
              "overview               Led by Woody, Andy's toys live happily in his ...  ...  Just when George Banks has recovered from his ...\n",
              "popularity                                                       21.9469  ...                                            8.38752\n",
              "poster_path                             /rhIRbceoE9lR4veEXuwCC2wARtG.jpg  ...                   /e64sOI48hQXyru7naBFyssKFxVd.jpg\n",
              "production_companies      [{'name': 'Pixar Animation Studios', 'id': 3}]  ...  [{'name': 'Sandollar Productions', 'id': 5842}...\n",
              "production_countries   [{'iso_3166_1': 'US', 'name': 'United States o...  ...  [{'iso_3166_1': 'US', 'name': 'United States o...\n",
              "release_date                                                  1995-10-30  ...                                         1995-02-10\n",
              "revenue                                                      3.73554e+08  ...                                        7.65789e+07\n",
              "runtime                                                               81  ...                                                106\n",
              "spoken_languages                [{'iso_639_1': 'en', 'name': 'English'}]  ...           [{'iso_639_1': 'en', 'name': 'English'}]\n",
              "status                                                          Released  ...                                           Released\n",
              "tagline                                                              NaN  ...  Just When His World Is Back To Normal... He's ...\n",
              "title                                                          Toy Story  ...                        Father of the Bride Part II\n",
              "video                                                              False  ...                                              False\n",
              "vote_average                                                         7.7  ...                                                5.7\n",
              "vote_count                                                          5415  ...                                                173\n",
              "\n",
              "[24 rows x 5 columns]"
            ]
          },
          "metadata": {},
          "execution_count": 4
        }
      ]
    },
    {
      "cell_type": "code",
      "metadata": {
        "colab": {
          "base_uri": "https://localhost:8080/"
        },
        "id": "fIQISiG_MYZU",
        "outputId": "bc4b261c-71b7-4943-abce-c64761d6365a"
      },
      "source": [
        "df.columns"
      ],
      "execution_count": null,
      "outputs": [
        {
          "output_type": "execute_result",
          "data": {
            "text/plain": [
              "Index(['adult', 'belongs_to_collection', 'budget', 'genres', 'homepage', 'id',\n",
              "       'imdb_id', 'original_language', 'original_title', 'overview',\n",
              "       'popularity', 'poster_path', 'production_companies',\n",
              "       'production_countries', 'release_date', 'revenue', 'runtime',\n",
              "       'spoken_languages', 'status', 'tagline', 'title', 'video',\n",
              "       'vote_average', 'vote_count'],\n",
              "      dtype='object')"
            ]
          },
          "metadata": {},
          "execution_count": 5
        }
      ]
    },
    {
      "cell_type": "markdown",
      "metadata": {
        "id": "taHFt9dmMbvb"
      },
      "source": [
        "**Features:**\n",
        "\n",
        "* **adult**: Indicates if the movie is X-Rated or Adult.\n",
        "* **belongs_to_collection**: A stringified dictionary that gives information on the movie series the particular film belongs to.\n",
        "* **budget**: The budget of the movie in dollars.\n",
        "* **genres**: A stringified list of dictionaries that list out all the genres associated with the movie.\n",
        "* **homepage**: The Official Homepage of the move.\n",
        "* **id**: The ID of the move.\n",
        "* **imdb_id**: The IMDB ID of the movie.\n",
        "* **original_language**: The language in which the movie was originally shot in.\n",
        "* **original_title**: The original title of the movie.\n",
        "* **overview**: A brief blurb of the movie.\n",
        "* **popularity**: The Popularity Score assigned by TMDB.\n",
        "* **poster_path**: The URL of the poster image.\n",
        "* **production_companies**: A stringified list of production companies involved with the making of the movie.\n",
        "* **production_countries**: A stringified list of countries where the movie was shot/produced in.\n",
        "* **release_date**: Theatrical Release Date of the movie.\n",
        "* **revenue**: The total revenue of the movie in dollars.\n",
        "* **runtime**: The runtime of the movie in minutes.\n",
        "* **spoken_languages**: A stringified list of spoken languages in the film.\n",
        "* **status**: The status of the movie (Released, To Be Released, Announced, etc.)\n",
        "* **tagline**: The tagline of the movie.\n",
        "* **title**: The Official Title of the movie.\n",
        "* **video**: Indicates if there is a video present of the movie with TMDB.\n",
        "* **vote_average**: The average rating of the movie.\n",
        "* **vote_count**: The number of votes by users, as counted by TMDB."
      ]
    },
    {
      "cell_type": "code",
      "metadata": {
        "colab": {
          "base_uri": "https://localhost:8080/"
        },
        "id": "lMDULnyfMgHS",
        "outputId": "12a8c991-0f19-43f3-f820-9230af697f63"
      },
      "source": [
        "df.shape"
      ],
      "execution_count": null,
      "outputs": [
        {
          "output_type": "execute_result",
          "data": {
            "text/plain": [
              "(45466, 24)"
            ]
          },
          "metadata": {},
          "execution_count": 6
        }
      ]
    },
    {
      "cell_type": "code",
      "metadata": {
        "colab": {
          "base_uri": "https://localhost:8080/"
        },
        "id": "8sSwBnmDMjDw",
        "outputId": "38853564-c833-41f2-be58-bcf31fa33071"
      },
      "source": [
        "df.info()"
      ],
      "execution_count": null,
      "outputs": [
        {
          "output_type": "stream",
          "name": "stdout",
          "text": [
            "<class 'pandas.core.frame.DataFrame'>\n",
            "RangeIndex: 45466 entries, 0 to 45465\n",
            "Data columns (total 24 columns):\n",
            " #   Column                 Non-Null Count  Dtype  \n",
            "---  ------                 --------------  -----  \n",
            " 0   adult                  45466 non-null  object \n",
            " 1   belongs_to_collection  4494 non-null   object \n",
            " 2   budget                 45466 non-null  object \n",
            " 3   genres                 45466 non-null  object \n",
            " 4   homepage               7782 non-null   object \n",
            " 5   id                     45466 non-null  object \n",
            " 6   imdb_id                45449 non-null  object \n",
            " 7   original_language      45455 non-null  object \n",
            " 8   original_title         45466 non-null  object \n",
            " 9   overview               44512 non-null  object \n",
            " 10  popularity             45461 non-null  object \n",
            " 11  poster_path            45080 non-null  object \n",
            " 12  production_companies   45463 non-null  object \n",
            " 13  production_countries   45463 non-null  object \n",
            " 14  release_date           45379 non-null  object \n",
            " 15  revenue                45460 non-null  float64\n",
            " 16  runtime                45203 non-null  float64\n",
            " 17  spoken_languages       45460 non-null  object \n",
            " 18  status                 45379 non-null  object \n",
            " 19  tagline                20412 non-null  object \n",
            " 20  title                  45460 non-null  object \n",
            " 21  video                  45460 non-null  object \n",
            " 22  vote_average           45460 non-null  float64\n",
            " 23  vote_count             45460 non-null  float64\n",
            "dtypes: float64(4), object(20)\n",
            "memory usage: 8.3+ MB\n"
          ]
        }
      ]
    },
    {
      "cell_type": "markdown",
      "metadata": {
        "id": "CGQT27UbMqav"
      },
      "source": [
        "There are a total of **45,466 movies** with **24 features**. Most of the features have very few NaN values (apart from **homepage** and **tagline**)."
      ]
    },
    {
      "cell_type": "markdown",
      "metadata": {
        "id": "GhSnRbpxSMsA"
      },
      "source": [
        "### credits data"
      ]
    },
    {
      "cell_type": "code",
      "metadata": {
        "colab": {
          "base_uri": "https://localhost:8080/",
          "height": 204
        },
        "id": "GJMdVsjmNWQP",
        "outputId": "987379ea-7327-434a-ad40-e0435e3a8161"
      },
      "source": [
        "credits_df = pd.read_csv('/content/drive/MyDrive/BDA/input/credits.csv')\n",
        "credits_df.head()"
      ],
      "execution_count": null,
      "outputs": [
        {
          "output_type": "execute_result",
          "data": {
            "text/html": [
              "<div>\n",
              "<style scoped>\n",
              "    .dataframe tbody tr th:only-of-type {\n",
              "        vertical-align: middle;\n",
              "    }\n",
              "\n",
              "    .dataframe tbody tr th {\n",
              "        vertical-align: top;\n",
              "    }\n",
              "\n",
              "    .dataframe thead th {\n",
              "        text-align: right;\n",
              "    }\n",
              "</style>\n",
              "<table border=\"1\" class=\"dataframe\">\n",
              "  <thead>\n",
              "    <tr style=\"text-align: right;\">\n",
              "      <th></th>\n",
              "      <th>cast</th>\n",
              "      <th>crew</th>\n",
              "      <th>id</th>\n",
              "    </tr>\n",
              "  </thead>\n",
              "  <tbody>\n",
              "    <tr>\n",
              "      <th>0</th>\n",
              "      <td>[{'cast_id': 14, 'character': 'Woody (voice)',...</td>\n",
              "      <td>[{'credit_id': '52fe4284c3a36847f8024f49', 'de...</td>\n",
              "      <td>862</td>\n",
              "    </tr>\n",
              "    <tr>\n",
              "      <th>1</th>\n",
              "      <td>[{'cast_id': 1, 'character': 'Alan Parrish', '...</td>\n",
              "      <td>[{'credit_id': '52fe44bfc3a36847f80a7cd1', 'de...</td>\n",
              "      <td>8844</td>\n",
              "    </tr>\n",
              "    <tr>\n",
              "      <th>2</th>\n",
              "      <td>[{'cast_id': 2, 'character': 'Max Goldman', 'c...</td>\n",
              "      <td>[{'credit_id': '52fe466a9251416c75077a89', 'de...</td>\n",
              "      <td>15602</td>\n",
              "    </tr>\n",
              "    <tr>\n",
              "      <th>3</th>\n",
              "      <td>[{'cast_id': 1, 'character': \"Savannah 'Vannah...</td>\n",
              "      <td>[{'credit_id': '52fe44779251416c91011acb', 'de...</td>\n",
              "      <td>31357</td>\n",
              "    </tr>\n",
              "    <tr>\n",
              "      <th>4</th>\n",
              "      <td>[{'cast_id': 1, 'character': 'George Banks', '...</td>\n",
              "      <td>[{'credit_id': '52fe44959251416c75039ed7', 'de...</td>\n",
              "      <td>11862</td>\n",
              "    </tr>\n",
              "  </tbody>\n",
              "</table>\n",
              "</div>"
            ],
            "text/plain": [
              "                                                cast  ...     id\n",
              "0  [{'cast_id': 14, 'character': 'Woody (voice)',...  ...    862\n",
              "1  [{'cast_id': 1, 'character': 'Alan Parrish', '...  ...   8844\n",
              "2  [{'cast_id': 2, 'character': 'Max Goldman', 'c...  ...  15602\n",
              "3  [{'cast_id': 1, 'character': \"Savannah 'Vannah...  ...  31357\n",
              "4  [{'cast_id': 1, 'character': 'George Banks', '...  ...  11862\n",
              "\n",
              "[5 rows x 3 columns]"
            ]
          },
          "metadata": {},
          "execution_count": 8
        }
      ]
    },
    {
      "cell_type": "markdown",
      "metadata": {
        "id": "vcIMWIaDNlFa"
      },
      "source": [
        "**Features:**\n",
        "* **cast:** A stringified list of dictionaries consisting of cast names and the corresponding characters they played.\n",
        "* **crew:** A stringified list of dictionaries consisting of crew names and the function they performed.\n",
        "* **id:** The TMDB ID of movie."
      ]
    },
    {
      "cell_type": "code",
      "metadata": {
        "colab": {
          "base_uri": "https://localhost:8080/"
        },
        "id": "4oG5VZ0VNzun",
        "outputId": "81196975-6a3c-4421-fd72-70f33798d8f8"
      },
      "source": [
        "credits_df.shape"
      ],
      "execution_count": null,
      "outputs": [
        {
          "output_type": "execute_result",
          "data": {
            "text/plain": [
              "(45476, 3)"
            ]
          },
          "metadata": {},
          "execution_count": 10
        }
      ]
    },
    {
      "cell_type": "code",
      "metadata": {
        "colab": {
          "base_uri": "https://localhost:8080/"
        },
        "id": "PzIdaW9PN7sT",
        "outputId": "71522b74-d4f9-40a0-8db4-e58c7496127d"
      },
      "source": [
        "credits_df.info()"
      ],
      "execution_count": null,
      "outputs": [
        {
          "output_type": "stream",
          "name": "stdout",
          "text": [
            "<class 'pandas.core.frame.DataFrame'>\n",
            "RangeIndex: 45476 entries, 0 to 45475\n",
            "Data columns (total 3 columns):\n",
            " #   Column  Non-Null Count  Dtype \n",
            "---  ------  --------------  ----- \n",
            " 0   cast    45476 non-null  object\n",
            " 1   crew    45476 non-null  object\n",
            " 2   id      45476 non-null  int64 \n",
            "dtypes: int64(1), object(2)\n",
            "memory usage: 1.0+ MB\n"
          ]
        }
      ]
    },
    {
      "cell_type": "markdown",
      "metadata": {
        "id": "XonaBHXvTG1o"
      },
      "source": [
        "### keywords data"
      ]
    },
    {
      "cell_type": "code",
      "metadata": {
        "colab": {
          "base_uri": "https://localhost:8080/",
          "height": 204
        },
        "id": "BEi3XJc9QPga",
        "outputId": "dd266d39-cc36-42be-be57-3d433572faf6"
      },
      "source": [
        "keywords_df = pd.read_csv('/content/drive/MyDrive/BDA/input/keywords.csv')\n",
        "keywords_df.head()"
      ],
      "execution_count": null,
      "outputs": [
        {
          "output_type": "execute_result",
          "data": {
            "text/html": [
              "<div>\n",
              "<style scoped>\n",
              "    .dataframe tbody tr th:only-of-type {\n",
              "        vertical-align: middle;\n",
              "    }\n",
              "\n",
              "    .dataframe tbody tr th {\n",
              "        vertical-align: top;\n",
              "    }\n",
              "\n",
              "    .dataframe thead th {\n",
              "        text-align: right;\n",
              "    }\n",
              "</style>\n",
              "<table border=\"1\" class=\"dataframe\">\n",
              "  <thead>\n",
              "    <tr style=\"text-align: right;\">\n",
              "      <th></th>\n",
              "      <th>id</th>\n",
              "      <th>keywords</th>\n",
              "    </tr>\n",
              "  </thead>\n",
              "  <tbody>\n",
              "    <tr>\n",
              "      <th>0</th>\n",
              "      <td>862</td>\n",
              "      <td>[{'id': 931, 'name': 'jealousy'}, {'id': 4290,...</td>\n",
              "    </tr>\n",
              "    <tr>\n",
              "      <th>1</th>\n",
              "      <td>8844</td>\n",
              "      <td>[{'id': 10090, 'name': 'board game'}, {'id': 1...</td>\n",
              "    </tr>\n",
              "    <tr>\n",
              "      <th>2</th>\n",
              "      <td>15602</td>\n",
              "      <td>[{'id': 1495, 'name': 'fishing'}, {'id': 12392...</td>\n",
              "    </tr>\n",
              "    <tr>\n",
              "      <th>3</th>\n",
              "      <td>31357</td>\n",
              "      <td>[{'id': 818, 'name': 'based on novel'}, {'id':...</td>\n",
              "    </tr>\n",
              "    <tr>\n",
              "      <th>4</th>\n",
              "      <td>11862</td>\n",
              "      <td>[{'id': 1009, 'name': 'baby'}, {'id': 1599, 'n...</td>\n",
              "    </tr>\n",
              "  </tbody>\n",
              "</table>\n",
              "</div>"
            ],
            "text/plain": [
              "      id                                           keywords\n",
              "0    862  [{'id': 931, 'name': 'jealousy'}, {'id': 4290,...\n",
              "1   8844  [{'id': 10090, 'name': 'board game'}, {'id': 1...\n",
              "2  15602  [{'id': 1495, 'name': 'fishing'}, {'id': 12392...\n",
              "3  31357  [{'id': 818, 'name': 'based on novel'}, {'id':...\n",
              "4  11862  [{'id': 1009, 'name': 'baby'}, {'id': 1599, 'n..."
            ]
          },
          "metadata": {},
          "execution_count": 13
        }
      ]
    },
    {
      "cell_type": "code",
      "metadata": {
        "colab": {
          "base_uri": "https://localhost:8080/"
        },
        "id": "0iO9WQPvTMZR",
        "outputId": "10dede4a-3d15-4879-91de-e1c153ad1af7"
      },
      "source": [
        "keywords_df.shape"
      ],
      "execution_count": null,
      "outputs": [
        {
          "output_type": "execute_result",
          "data": {
            "text/plain": [
              "(46419, 2)"
            ]
          },
          "metadata": {},
          "execution_count": 25
        }
      ]
    },
    {
      "cell_type": "code",
      "metadata": {
        "colab": {
          "base_uri": "https://localhost:8080/"
        },
        "id": "l1S8NZgVTPv1",
        "outputId": "cf6d9b8d-e96f-4ef1-90e9-370b65621759"
      },
      "source": [
        "keywords_df.info()"
      ],
      "execution_count": null,
      "outputs": [
        {
          "output_type": "stream",
          "name": "stdout",
          "text": [
            "<class 'pandas.core.frame.DataFrame'>\n",
            "RangeIndex: 46419 entries, 0 to 46418\n",
            "Data columns (total 2 columns):\n",
            " #   Column    Non-Null Count  Dtype \n",
            "---  ------    --------------  ----- \n",
            " 0   id        46419 non-null  int64 \n",
            " 1   keywords  46419 non-null  object\n",
            "dtypes: int64(1), object(1)\n",
            "memory usage: 725.4+ KB\n"
          ]
        }
      ]
    },
    {
      "cell_type": "markdown",
      "metadata": {
        "id": "eD9Uk1JFS2AB"
      },
      "source": [
        "### links data"
      ]
    },
    {
      "cell_type": "code",
      "metadata": {
        "colab": {
          "base_uri": "https://localhost:8080/",
          "height": 204
        },
        "id": "6H9jHNiIQkTj",
        "outputId": "527f5c0f-8c7a-4d61-87bb-995dbc178241"
      },
      "source": [
        "links_df = pd.read_csv('/content/drive/MyDrive/BDA/input/links.csv')\n",
        "links_df.head()"
      ],
      "execution_count": null,
      "outputs": [
        {
          "output_type": "execute_result",
          "data": {
            "text/html": [
              "<div>\n",
              "<style scoped>\n",
              "    .dataframe tbody tr th:only-of-type {\n",
              "        vertical-align: middle;\n",
              "    }\n",
              "\n",
              "    .dataframe tbody tr th {\n",
              "        vertical-align: top;\n",
              "    }\n",
              "\n",
              "    .dataframe thead th {\n",
              "        text-align: right;\n",
              "    }\n",
              "</style>\n",
              "<table border=\"1\" class=\"dataframe\">\n",
              "  <thead>\n",
              "    <tr style=\"text-align: right;\">\n",
              "      <th></th>\n",
              "      <th>movieId</th>\n",
              "      <th>imdbId</th>\n",
              "      <th>tmdbId</th>\n",
              "    </tr>\n",
              "  </thead>\n",
              "  <tbody>\n",
              "    <tr>\n",
              "      <th>0</th>\n",
              "      <td>1</td>\n",
              "      <td>114709</td>\n",
              "      <td>862.0</td>\n",
              "    </tr>\n",
              "    <tr>\n",
              "      <th>1</th>\n",
              "      <td>2</td>\n",
              "      <td>113497</td>\n",
              "      <td>8844.0</td>\n",
              "    </tr>\n",
              "    <tr>\n",
              "      <th>2</th>\n",
              "      <td>3</td>\n",
              "      <td>113228</td>\n",
              "      <td>15602.0</td>\n",
              "    </tr>\n",
              "    <tr>\n",
              "      <th>3</th>\n",
              "      <td>4</td>\n",
              "      <td>114885</td>\n",
              "      <td>31357.0</td>\n",
              "    </tr>\n",
              "    <tr>\n",
              "      <th>4</th>\n",
              "      <td>5</td>\n",
              "      <td>113041</td>\n",
              "      <td>11862.0</td>\n",
              "    </tr>\n",
              "  </tbody>\n",
              "</table>\n",
              "</div>"
            ],
            "text/plain": [
              "   movieId  imdbId   tmdbId\n",
              "0        1  114709    862.0\n",
              "1        2  113497   8844.0\n",
              "2        3  113228  15602.0\n",
              "3        4  114885  31357.0\n",
              "4        5  113041  11862.0"
            ]
          },
          "metadata": {},
          "execution_count": 14
        }
      ]
    },
    {
      "cell_type": "code",
      "metadata": {
        "colab": {
          "base_uri": "https://localhost:8080/"
        },
        "id": "flwiDY7jS5D8",
        "outputId": "0c4b4c9a-a03b-4eac-e380-4c0368892bec"
      },
      "source": [
        "links_df.shape"
      ],
      "execution_count": null,
      "outputs": [
        {
          "output_type": "execute_result",
          "data": {
            "text/plain": [
              "(45843, 3)"
            ]
          },
          "metadata": {},
          "execution_count": 23
        }
      ]
    },
    {
      "cell_type": "code",
      "metadata": {
        "colab": {
          "base_uri": "https://localhost:8080/"
        },
        "id": "ECww0jVDS65n",
        "outputId": "c4b895ff-4270-4efc-f9c8-9689cfe8f49c"
      },
      "source": [
        "links_df.info()"
      ],
      "execution_count": null,
      "outputs": [
        {
          "output_type": "stream",
          "name": "stdout",
          "text": [
            "<class 'pandas.core.frame.DataFrame'>\n",
            "RangeIndex: 45843 entries, 0 to 45842\n",
            "Data columns (total 3 columns):\n",
            " #   Column   Non-Null Count  Dtype  \n",
            "---  ------   --------------  -----  \n",
            " 0   movieId  45843 non-null  int64  \n",
            " 1   imdbId   45843 non-null  int64  \n",
            " 2   tmdbId   45624 non-null  float64\n",
            "dtypes: float64(1), int64(2)\n",
            "memory usage: 1.0 MB\n"
          ]
        }
      ]
    },
    {
      "cell_type": "markdown",
      "metadata": {
        "id": "Dw67BIqxSadP"
      },
      "source": [
        "### links_small data"
      ]
    },
    {
      "cell_type": "code",
      "metadata": {
        "colab": {
          "base_uri": "https://localhost:8080/",
          "height": 204
        },
        "id": "qlsUlp-aQz3p",
        "outputId": "16367b05-e89d-435f-b3d2-25ab58bc4a1e"
      },
      "source": [
        "links_small_df = pd.read_csv('/content/drive/MyDrive/BDA/input/links_small.csv')\n",
        "links_small_df.head()"
      ],
      "execution_count": null,
      "outputs": [
        {
          "output_type": "execute_result",
          "data": {
            "text/html": [
              "<div>\n",
              "<style scoped>\n",
              "    .dataframe tbody tr th:only-of-type {\n",
              "        vertical-align: middle;\n",
              "    }\n",
              "\n",
              "    .dataframe tbody tr th {\n",
              "        vertical-align: top;\n",
              "    }\n",
              "\n",
              "    .dataframe thead th {\n",
              "        text-align: right;\n",
              "    }\n",
              "</style>\n",
              "<table border=\"1\" class=\"dataframe\">\n",
              "  <thead>\n",
              "    <tr style=\"text-align: right;\">\n",
              "      <th></th>\n",
              "      <th>movieId</th>\n",
              "      <th>imdbId</th>\n",
              "      <th>tmdbId</th>\n",
              "    </tr>\n",
              "  </thead>\n",
              "  <tbody>\n",
              "    <tr>\n",
              "      <th>0</th>\n",
              "      <td>1</td>\n",
              "      <td>114709</td>\n",
              "      <td>862.0</td>\n",
              "    </tr>\n",
              "    <tr>\n",
              "      <th>1</th>\n",
              "      <td>2</td>\n",
              "      <td>113497</td>\n",
              "      <td>8844.0</td>\n",
              "    </tr>\n",
              "    <tr>\n",
              "      <th>2</th>\n",
              "      <td>3</td>\n",
              "      <td>113228</td>\n",
              "      <td>15602.0</td>\n",
              "    </tr>\n",
              "    <tr>\n",
              "      <th>3</th>\n",
              "      <td>4</td>\n",
              "      <td>114885</td>\n",
              "      <td>31357.0</td>\n",
              "    </tr>\n",
              "    <tr>\n",
              "      <th>4</th>\n",
              "      <td>5</td>\n",
              "      <td>113041</td>\n",
              "      <td>11862.0</td>\n",
              "    </tr>\n",
              "  </tbody>\n",
              "</table>\n",
              "</div>"
            ],
            "text/plain": [
              "   movieId  imdbId   tmdbId\n",
              "0        1  114709    862.0\n",
              "1        2  113497   8844.0\n",
              "2        3  113228  15602.0\n",
              "3        4  114885  31357.0\n",
              "4        5  113041  11862.0"
            ]
          },
          "metadata": {},
          "execution_count": 15
        }
      ]
    },
    {
      "cell_type": "code",
      "metadata": {
        "colab": {
          "base_uri": "https://localhost:8080/"
        },
        "id": "XdkXlEdOSfGq",
        "outputId": "54a97ee7-70a6-4df1-ff66-c479f97309fe"
      },
      "source": [
        "links_small_df.shape"
      ],
      "execution_count": null,
      "outputs": [
        {
          "output_type": "execute_result",
          "data": {
            "text/plain": [
              "(9125, 3)"
            ]
          },
          "metadata": {},
          "execution_count": 20
        }
      ]
    },
    {
      "cell_type": "code",
      "metadata": {
        "colab": {
          "base_uri": "https://localhost:8080/"
        },
        "id": "4wzo8JQ8SjuJ",
        "outputId": "79da7349-b188-4785-ad41-cd1e48e3656c"
      },
      "source": [
        "links_small_df.info()"
      ],
      "execution_count": null,
      "outputs": [
        {
          "output_type": "stream",
          "name": "stdout",
          "text": [
            "<class 'pandas.core.frame.DataFrame'>\n",
            "RangeIndex: 9125 entries, 0 to 9124\n",
            "Data columns (total 3 columns):\n",
            " #   Column   Non-Null Count  Dtype  \n",
            "---  ------   --------------  -----  \n",
            " 0   movieId  9125 non-null   int64  \n",
            " 1   imdbId   9125 non-null   int64  \n",
            " 2   tmdbId   9112 non-null   float64\n",
            "dtypes: float64(1), int64(2)\n",
            "memory usage: 214.0 KB\n"
          ]
        }
      ]
    },
    {
      "cell_type": "markdown",
      "metadata": {
        "id": "Pd4ux2GgRq_D"
      },
      "source": [
        "### rating_small data"
      ]
    },
    {
      "cell_type": "code",
      "metadata": {
        "colab": {
          "base_uri": "https://localhost:8080/",
          "height": 204
        },
        "id": "Z00eaCV2QzsV",
        "outputId": "d5be0c43-09b7-431b-a598-262ea0810694"
      },
      "source": [
        "ratings_small_df = pd.read_csv('/content/drive/MyDrive/BDA/input/ratings_small.csv')\n",
        "ratings_small_df.head()"
      ],
      "execution_count": null,
      "outputs": [
        {
          "output_type": "execute_result",
          "data": {
            "text/html": [
              "<div>\n",
              "<style scoped>\n",
              "    .dataframe tbody tr th:only-of-type {\n",
              "        vertical-align: middle;\n",
              "    }\n",
              "\n",
              "    .dataframe tbody tr th {\n",
              "        vertical-align: top;\n",
              "    }\n",
              "\n",
              "    .dataframe thead th {\n",
              "        text-align: right;\n",
              "    }\n",
              "</style>\n",
              "<table border=\"1\" class=\"dataframe\">\n",
              "  <thead>\n",
              "    <tr style=\"text-align: right;\">\n",
              "      <th></th>\n",
              "      <th>userId</th>\n",
              "      <th>movieId</th>\n",
              "      <th>rating</th>\n",
              "      <th>timestamp</th>\n",
              "    </tr>\n",
              "  </thead>\n",
              "  <tbody>\n",
              "    <tr>\n",
              "      <th>0</th>\n",
              "      <td>1</td>\n",
              "      <td>31</td>\n",
              "      <td>2.5</td>\n",
              "      <td>1260759144</td>\n",
              "    </tr>\n",
              "    <tr>\n",
              "      <th>1</th>\n",
              "      <td>1</td>\n",
              "      <td>1029</td>\n",
              "      <td>3.0</td>\n",
              "      <td>1260759179</td>\n",
              "    </tr>\n",
              "    <tr>\n",
              "      <th>2</th>\n",
              "      <td>1</td>\n",
              "      <td>1061</td>\n",
              "      <td>3.0</td>\n",
              "      <td>1260759182</td>\n",
              "    </tr>\n",
              "    <tr>\n",
              "      <th>3</th>\n",
              "      <td>1</td>\n",
              "      <td>1129</td>\n",
              "      <td>2.0</td>\n",
              "      <td>1260759185</td>\n",
              "    </tr>\n",
              "    <tr>\n",
              "      <th>4</th>\n",
              "      <td>1</td>\n",
              "      <td>1172</td>\n",
              "      <td>4.0</td>\n",
              "      <td>1260759205</td>\n",
              "    </tr>\n",
              "  </tbody>\n",
              "</table>\n",
              "</div>"
            ],
            "text/plain": [
              "   userId  movieId  rating   timestamp\n",
              "0       1       31     2.5  1260759144\n",
              "1       1     1029     3.0  1260759179\n",
              "2       1     1061     3.0  1260759182\n",
              "3       1     1129     2.0  1260759185\n",
              "4       1     1172     4.0  1260759205"
            ]
          },
          "metadata": {},
          "execution_count": 16
        }
      ]
    },
    {
      "cell_type": "code",
      "metadata": {
        "colab": {
          "base_uri": "https://localhost:8080/"
        },
        "id": "afBo1V9SRbLk",
        "outputId": "411cab25-5e04-45f6-b4ce-29043ba015b0"
      },
      "source": [
        "ratings_small_df.shape"
      ],
      "execution_count": null,
      "outputs": [
        {
          "output_type": "execute_result",
          "data": {
            "text/plain": [
              "(100004, 4)"
            ]
          },
          "metadata": {},
          "execution_count": 18
        }
      ]
    },
    {
      "cell_type": "code",
      "metadata": {
        "colab": {
          "base_uri": "https://localhost:8080/"
        },
        "id": "BK1AvOS5Rivl",
        "outputId": "595a44d1-46f0-4cbe-a3f5-c3a794a4a5c9"
      },
      "source": [
        "ratings_small_df.info()"
      ],
      "execution_count": null,
      "outputs": [
        {
          "output_type": "stream",
          "name": "stdout",
          "text": [
            "<class 'pandas.core.frame.DataFrame'>\n",
            "RangeIndex: 100004 entries, 0 to 100003\n",
            "Data columns (total 4 columns):\n",
            " #   Column     Non-Null Count   Dtype  \n",
            "---  ------     --------------   -----  \n",
            " 0   userId     100004 non-null  int64  \n",
            " 1   movieId    100004 non-null  int64  \n",
            " 2   rating     100004 non-null  float64\n",
            " 3   timestamp  100004 non-null  int64  \n",
            "dtypes: float64(1), int64(3)\n",
            "memory usage: 3.1 MB\n"
          ]
        }
      ]
    },
    {
      "cell_type": "markdown",
      "metadata": {
        "id": "WEWyC0JfLOMN"
      },
      "source": [
        "## 2.Data Cleaning\n",
        "In this stage, we will clean our data by\n",
        "\n",
        "handling missing information,\n",
        "creating new features for analysis, and\n",
        "converting fields to the correct format for calculations and presentation."
      ]
    },
    {
      "cell_type": "markdown",
      "metadata": {
        "id": "yQrgetHHLboG"
      },
      "source": [
        "### 2.A Missing Values\n",
        "Reviewing the data, there does not appear to be any aberrant or non-acceptable data inputs.\n",
        "\n",
        "Are there null values or missing data?\n"
      ]
    },
    {
      "cell_type": "code",
      "metadata": {
        "colab": {
          "base_uri": "https://localhost:8080/"
        },
        "id": "WqpriqyNXdCT",
        "outputId": "94a9799d-761b-4054-b69a-7e7ac92d4da1"
      },
      "source": [
        "df.isnull().sum()"
      ],
      "execution_count": null,
      "outputs": [
        {
          "output_type": "execute_result",
          "data": {
            "text/plain": [
              "adult                        0\n",
              "belongs_to_collection    40972\n",
              "budget                       0\n",
              "genres                       0\n",
              "homepage                 37684\n",
              "id                           0\n",
              "imdb_id                     17\n",
              "original_language           11\n",
              "original_title               0\n",
              "overview                   954\n",
              "popularity                   5\n",
              "poster_path                386\n",
              "production_companies         3\n",
              "production_countries         3\n",
              "release_date                87\n",
              "revenue                      6\n",
              "runtime                    263\n",
              "spoken_languages             6\n",
              "status                      87\n",
              "tagline                  25054\n",
              "title                        6\n",
              "video                        6\n",
              "vote_average                 6\n",
              "vote_count                   6\n",
              "dtype: int64"
            ]
          },
          "metadata": {},
          "execution_count": 27
        }
      ]
    },
    {
      "cell_type": "markdown",
      "metadata": {
        "id": "l54Zu4tYa452"
      },
      "source": [
        "##### **revenue:**"
      ]
    },
    {
      "cell_type": "code",
      "metadata": {
        "colab": {
          "base_uri": "https://localhost:8080/"
        },
        "id": "U-ah0mTvaxrO",
        "outputId": "382a42e9-d425-4147-da9f-d903c7c2aed1"
      },
      "source": [
        "df[df['revenue'] == 0].shape"
      ],
      "execution_count": null,
      "outputs": [
        {
          "output_type": "execute_result",
          "data": {
            "text/plain": [
              "(38052, 23)"
            ]
          },
          "metadata": {},
          "execution_count": 31
        }
      ]
    },
    {
      "cell_type": "markdown",
      "metadata": {
        "id": "bK2ztDSKb0CS"
      },
      "source": [
        "We see that the majority of the movies have a recorded revenue of **0**. This indicates that we do not have information about the total revenue for these movies. Although this forms the majority of the movies available to us, we will still use revenue as an extremely important feature going forward from the remaining 7000 moves."
      ]
    },
    {
      "cell_type": "code",
      "metadata": {
        "id": "8YtAr0UIbBbz"
      },
      "source": [
        "df['revenue'] = df['revenue'].replace(0, np.nan)"
      ],
      "execution_count": null,
      "outputs": []
    },
    {
      "cell_type": "markdown",
      "metadata": {
        "id": "kFCDGTXmLo1e"
      },
      "source": [
        "### 2.B Feature Engineering\n",
        "Feature engineering is when we use existing features to create new features to determine if they provide new signals to predict our outcome.\n",
        "\n",
        "In order to better explicitate information hidden in the original data we engenier some new features"
      ]
    },
    {
      "cell_type": "markdown",
      "metadata": {
        "id": "OeP_g_gXdG6e"
      },
      "source": [
        "##### **return:**"
      ]
    },
    {
      "cell_type": "markdown",
      "metadata": {
        "id": "d7biTc4gcQKQ"
      },
      "source": [
        "construct two very important features:\n",
        "* **year:** The year in which the movie was released.\n",
        "* **return:** The ratio of revenue to budget.\n",
        "\n",
        "The **return** feature is extremely insightful as it will give us a more accurate picture of the financial success of a movie. Presently, our data will not be able to judge if a \\$200 million budget movie that earned \\$100 million did better than a \\$50,000 budget movie taking in \\$200,000. This feature will be able to capture that information.\n",
        "\n",
        "A return value > 1 would indicate profit whereas a return value < 1 would indicate a loss."
      ]
    },
    {
      "cell_type": "code",
      "metadata": {
        "colab": {
          "base_uri": "https://localhost:8080/"
        },
        "id": "86YwS_yJcPjK",
        "outputId": "829e335d-acc7-4560-e40f-1d568d071655"
      },
      "source": [
        "df['return'] = df['revenue'] / df['budget']\n",
        "df[df['return'].isnull()].shape"
      ],
      "execution_count": null,
      "outputs": [
        {
          "output_type": "execute_result",
          "data": {
            "text/plain": [
              "(40085, 24)"
            ]
          },
          "metadata": {},
          "execution_count": 37
        }
      ]
    },
    {
      "cell_type": "markdown",
      "metadata": {
        "id": "FFOGLVN8cZRH"
      },
      "source": [
        "We have close to **5000 movies** for which we have data on revenue and budget ratio. This is close to **10% of the entire dataset**. Although this may seem small, this is enough to perform very useful analysis and discover interesting insights about the world of movies."
      ]
    },
    {
      "cell_type": "markdown",
      "metadata": {
        "id": "XlGb3Wr-dBR9"
      },
      "source": [
        "##### **year:**"
      ]
    },
    {
      "cell_type": "code",
      "metadata": {
        "id": "ymZ-T7ucchJA"
      },
      "source": [
        "df['year'] = pd.to_datetime(df['release_date'], errors='coerce').apply(lambda x: str(x).split('-')[0] if x != np.nan else np.nan)"
      ],
      "execution_count": null,
      "outputs": []
    },
    {
      "cell_type": "markdown",
      "metadata": {
        "id": "HI7ZH7nIcuet"
      },
      "source": [
        "##### **adult:**"
      ]
    },
    {
      "cell_type": "code",
      "metadata": {
        "colab": {
          "base_uri": "https://localhost:8080/"
        },
        "id": "sQQIf-SDcn5d",
        "outputId": "88cb23bc-6b4c-4f61-d877-25f44b5e339f"
      },
      "source": [
        "df['adult'].value_counts()"
      ],
      "execution_count": null,
      "outputs": [
        {
          "output_type": "execute_result",
          "data": {
            "text/plain": [
              "False                                                                                                                             45454\n",
              "True                                                                                                                                  9\n",
              " Rune Balot goes to a casino connected to the October corporation to try to wrap up her case once and for all.                        1\n",
              " Avalanche Sharks tells the story of a bikini contest that turns into a horrifying affair when it is hit by a shark avalanche.        1\n",
              " - Written by Ørnås                                                                                                                   1\n",
              "Name: adult, dtype: int64"
            ]
          },
          "metadata": {},
          "execution_count": 39
        }
      ]
    },
    {
      "cell_type": "markdown",
      "metadata": {
        "id": "I8TkYqIEcsCS"
      },
      "source": [
        "There are close to **0 adult movies** in this dataset. The **adult** feature therefore is not of much use to us and can be safely dropped."
      ]
    },
    {
      "cell_type": "code",
      "metadata": {
        "id": "Is37muIGdQ5k"
      },
      "source": [
        "df = df.drop('adult', axis=1)"
      ],
      "execution_count": null,
      "outputs": []
    },
    {
      "cell_type": "markdown",
      "metadata": {
        "id": "cKhGNCVnc6G9"
      },
      "source": [
        "##### **original_title:**"
      ]
    },
    {
      "cell_type": "code",
      "metadata": {
        "colab": {
          "base_uri": "https://localhost:8080/",
          "height": 204
        },
        "id": "1vWB6wAzaFjW",
        "outputId": "5eec3e5b-fcd3-4964-b785-45c18579a74b"
      },
      "source": [
        "df[df['original_title'] != df['title']][['title', 'original_title']].head()"
      ],
      "execution_count": null,
      "outputs": [
        {
          "output_type": "execute_result",
          "data": {
            "text/html": [
              "<div>\n",
              "<style scoped>\n",
              "    .dataframe tbody tr th:only-of-type {\n",
              "        vertical-align: middle;\n",
              "    }\n",
              "\n",
              "    .dataframe tbody tr th {\n",
              "        vertical-align: top;\n",
              "    }\n",
              "\n",
              "    .dataframe thead th {\n",
              "        text-align: right;\n",
              "    }\n",
              "</style>\n",
              "<table border=\"1\" class=\"dataframe\">\n",
              "  <thead>\n",
              "    <tr style=\"text-align: right;\">\n",
              "      <th></th>\n",
              "      <th>title</th>\n",
              "      <th>original_title</th>\n",
              "    </tr>\n",
              "  </thead>\n",
              "  <tbody>\n",
              "    <tr>\n",
              "      <th>28</th>\n",
              "      <td>The City of Lost Children</td>\n",
              "      <td>La Cité des Enfants Perdus</td>\n",
              "    </tr>\n",
              "    <tr>\n",
              "      <th>29</th>\n",
              "      <td>Shanghai Triad</td>\n",
              "      <td>摇啊摇，摇到外婆桥</td>\n",
              "    </tr>\n",
              "    <tr>\n",
              "      <th>32</th>\n",
              "      <td>Wings of Courage</td>\n",
              "      <td>Guillaumet, les ailes du courage</td>\n",
              "    </tr>\n",
              "    <tr>\n",
              "      <th>57</th>\n",
              "      <td>The Postman</td>\n",
              "      <td>Il postino</td>\n",
              "    </tr>\n",
              "    <tr>\n",
              "      <th>58</th>\n",
              "      <td>The Confessional</td>\n",
              "      <td>Le confessionnal</td>\n",
              "    </tr>\n",
              "  </tbody>\n",
              "</table>\n",
              "</div>"
            ],
            "text/plain": [
              "                        title                    original_title\n",
              "28  The City of Lost Children        La Cité des Enfants Perdus\n",
              "29             Shanghai Triad                         摇啊摇，摇到外婆桥\n",
              "32           Wings of Courage  Guillaumet, les ailes du courage\n",
              "57                The Postman                        Il postino\n",
              "58           The Confessional                  Le confessionnal"
            ]
          },
          "metadata": {},
          "execution_count": 28
        }
      ]
    },
    {
      "cell_type": "markdown",
      "metadata": {
        "_uuid": "e2658ac84b859ffc2106767c95e5aa6f3bfde1b9",
        "_cell_guid": "b6c60f30-d4e3-425e-a25a-3f057312e4fc",
        "id": "DoUv8UhCD8Vh"
      },
      "source": [
        "The original title refers to the title of the movie in the native language in which the movie was shot. As such, I will prefer using the translated, Anglicized name in this analysis and hence, will drop the original titles altogether. We will be able to deduce if the movie is a foreign language film by looking at the **original_language** feature so no tangible information is lost in doing so."
      ]
    },
    {
      "cell_type": "code",
      "metadata": {
        "id": "NIg5UEvHaumX"
      },
      "source": [
        "df = df.drop('original_title', axis=1)"
      ],
      "execution_count": null,
      "outputs": []
    },
    {
      "cell_type": "markdown",
      "metadata": {
        "id": "8sgrEPfqj4Ar"
      },
      "source": [
        "##### **release_date:**\n",
        "Release Dates can often play a very important role in determining the success and the revenue generated by a particular movie. In this section, we will try and gain insights about release dates in terms of years, months and days of the week. \n",
        "\n",
        "We have already constructed the **year** feature in our preliminary data wrangling step. Let us now extract the month and day too for each movie with a release date."
      ]
    },
    {
      "cell_type": "code",
      "metadata": {
        "id": "r8xEuK9Hj3TC"
      },
      "source": [
        "month_order = ['Jan', 'Feb', 'Mar', 'Apr', 'May', 'Jun', 'Jul', 'Aug', 'Sep', 'Oct', 'Nov', 'Dec']\n",
        "day_order = ['Mon', 'Tue', 'Wed', 'Thu', 'Fri', 'Sat', 'Sun']"
      ],
      "execution_count": null,
      "outputs": []
    },
    {
      "cell_type": "code",
      "metadata": {
        "id": "Uzog3bBWkCni"
      },
      "source": [
        "def get_month(x):\n",
        "    try:\n",
        "        return month_order[int(str(x).split('-')[1]) - 1]\n",
        "    except:\n",
        "        return np.nan"
      ],
      "execution_count": null,
      "outputs": []
    },
    {
      "cell_type": "code",
      "metadata": {
        "id": "oTnBaQfakKjD"
      },
      "source": [
        "def get_day(x):\n",
        "    try:\n",
        "        year, month, day = (int(i) for i in x.split('-'))    \n",
        "        answer = datetime.date(year, month, day).weekday()\n",
        "        return day_order[answer]\n",
        "    except:\n",
        "        return np.nan"
      ],
      "execution_count": null,
      "outputs": []
    },
    {
      "cell_type": "code",
      "metadata": {
        "id": "RRS_kVThkE7I"
      },
      "source": [
        "df['day'] = df['release_date'].apply(get_day)\n",
        "df['month'] = df['release_date'].apply(get_month)"
      ],
      "execution_count": null,
      "outputs": []
    },
    {
      "cell_type": "markdown",
      "metadata": {
        "id": "2m-7Y5KymJGw"
      },
      "source": [
        "##### **status:**\n",
        "\n",
        "Although not entirely relevant to our analysis of movies, gathering information on the various kinds of movies based on their status of release can provide us interesitng insight on the nature of the movies present in our dataset. My preliminary hunch was that almost every movie has the **Released** status. Let's find out."
      ]
    },
    {
      "cell_type": "code",
      "metadata": {
        "colab": {
          "base_uri": "https://localhost:8080/"
        },
        "id": "g_ZofKc6mMBT",
        "outputId": "e1717064-3b91-4004-f3db-ff15977d44fe"
      },
      "source": [
        "df['status'].value_counts()"
      ],
      "execution_count": null,
      "outputs": [
        {
          "output_type": "execute_result",
          "data": {
            "text/plain": [
              "Released           45014\n",
              "Rumored              230\n",
              "Post Production       98\n",
              "In Production         20\n",
              "Planned               15\n",
              "Canceled               2\n",
              "Name: status, dtype: int64"
            ]
          },
          "metadata": {},
          "execution_count": 75
        }
      ]
    },
    {
      "cell_type": "markdown",
      "metadata": {
        "id": "OLWhcVrcmU1G"
      },
      "source": [
        "Almost every movie is indeed released. However, it is interesting to see that MovieLens has user ratings for movies that are still in the planning, production and post production stage. We might take this information into account while building our collaborative filtering recommendation engine."
      ]
    },
    {
      "cell_type": "markdown",
      "metadata": {
        "id": "i5yCbOG5nnXa"
      },
      "source": [
        "##### **spoken_languages**:\n",
        "Does the number of spoken languages influence the success of a movie? To do this, we will convert our spoken_languages feature to a numeric feature denoting the number of languages spoken in that film."
      ]
    },
    {
      "cell_type": "code",
      "metadata": {
        "id": "MbI1HtWLns9J"
      },
      "source": [
        "df['spoken_languages'] = df['spoken_languages'].fillna('[]').apply(ast.literal_eval).apply(lambda x: len(x) if isinstance(x, list) else np.nan)"
      ],
      "execution_count": null,
      "outputs": []
    },
    {
      "cell_type": "code",
      "metadata": {
        "colab": {
          "base_uri": "https://localhost:8080/"
        },
        "id": "GKPFxi07nxDb",
        "outputId": "0487e665-a5a2-4248-8318-0a26c28b9343"
      },
      "source": [
        "df['spoken_languages'].value_counts()"
      ],
      "execution_count": null,
      "outputs": [
        {
          "output_type": "execute_result",
          "data": {
            "text/plain": [
              "1     33736\n",
              "2      5371\n",
              "0      3835\n",
              "3      1705\n",
              "4       550\n",
              "5       178\n",
              "6        62\n",
              "7        14\n",
              "8         6\n",
              "9         5\n",
              "19        1\n",
              "13        1\n",
              "12        1\n",
              "10        1\n",
              "Name: spoken_languages, dtype: int64"
            ]
          },
          "metadata": {},
          "execution_count": 77
        }
      ]
    },
    {
      "cell_type": "markdown",
      "metadata": {
        "id": "eF-iGUrwn5Kh"
      },
      "source": [
        "Most movies have just one language spoken in the entire duration of the film. **19** is the higest number of languages spoken in a film. "
      ]
    },
    {
      "cell_type": "markdown",
      "metadata": {
        "id": "6qaxnLAPuC3f"
      },
      "source": [
        "##### **Cast and Crew:**\n",
        "We need to perform a left join of our original movies metadata dataframe with the credits dataframe on the TMDB Movie ID. Before we are able to perform this join, we need to make sure that the ID column of our main dataframe is clean and of type integer. To do this, let us try to perform an integer conversion of our IDs and if an exception is raised,we will replace the ID with NaN. We will then proceed to drop these rows from our dataframe."
      ]
    },
    {
      "cell_type": "code",
      "metadata": {
        "id": "xYMmeDdGuNkk"
      },
      "source": [
        "def convert_int(x):\n",
        "    try:\n",
        "        return int(x)\n",
        "    except:\n",
        "        return np.nan"
      ],
      "execution_count": null,
      "outputs": []
    },
    {
      "cell_type": "code",
      "metadata": {
        "id": "USU1IdCKuSEA"
      },
      "source": [
        "df['id'] = df['id'].apply(convert_int)"
      ],
      "execution_count": null,
      "outputs": []
    },
    {
      "cell_type": "code",
      "metadata": {
        "colab": {
          "base_uri": "https://localhost:8080/",
          "height": 332
        },
        "id": "xUIwVsbbuUU2",
        "outputId": "66a45c61-cf1d-49ae-f955-d16be1117ee8"
      },
      "source": [
        "df[df['id'].isnull()]"
      ],
      "execution_count": null,
      "outputs": [
        {
          "output_type": "execute_result",
          "data": {
            "text/html": [
              "<div>\n",
              "<style scoped>\n",
              "    .dataframe tbody tr th:only-of-type {\n",
              "        vertical-align: middle;\n",
              "    }\n",
              "\n",
              "    .dataframe tbody tr th {\n",
              "        vertical-align: top;\n",
              "    }\n",
              "\n",
              "    .dataframe thead th {\n",
              "        text-align: right;\n",
              "    }\n",
              "</style>\n",
              "<table border=\"1\" class=\"dataframe\">\n",
              "  <thead>\n",
              "    <tr style=\"text-align: right;\">\n",
              "      <th></th>\n",
              "      <th>belongs_to_collection</th>\n",
              "      <th>budget</th>\n",
              "      <th>genres</th>\n",
              "      <th>homepage</th>\n",
              "      <th>id</th>\n",
              "      <th>imdb_id</th>\n",
              "      <th>original_language</th>\n",
              "      <th>overview</th>\n",
              "      <th>popularity</th>\n",
              "      <th>poster_path</th>\n",
              "      <th>production_companies</th>\n",
              "      <th>production_countries</th>\n",
              "      <th>release_date</th>\n",
              "      <th>revenue</th>\n",
              "      <th>runtime</th>\n",
              "      <th>spoken_languages</th>\n",
              "      <th>status</th>\n",
              "      <th>tagline</th>\n",
              "      <th>title</th>\n",
              "      <th>video</th>\n",
              "      <th>vote_average</th>\n",
              "      <th>vote_count</th>\n",
              "      <th>return</th>\n",
              "      <th>year</th>\n",
              "      <th>day</th>\n",
              "      <th>month</th>\n",
              "    </tr>\n",
              "  </thead>\n",
              "  <tbody>\n",
              "    <tr>\n",
              "      <th>19730</th>\n",
              "      <td>0.065736</td>\n",
              "      <td>NaN</td>\n",
              "      <td>[Carousel Productions, Vision View Entertainme...</td>\n",
              "      <td>[{'iso_3166_1': 'CA', 'name': 'Canada'}, {'iso...</td>\n",
              "      <td>NaN</td>\n",
              "      <td>0</td>\n",
              "      <td>104.0</td>\n",
              "      <td>Released</td>\n",
              "      <td>NaN</td>\n",
              "      <td>Midnight Man</td>\n",
              "      <td>[]</td>\n",
              "      <td>[]</td>\n",
              "      <td>1</td>\n",
              "      <td>NaN</td>\n",
              "      <td>NaN</td>\n",
              "      <td>0</td>\n",
              "      <td>NaN</td>\n",
              "      <td>NaN</td>\n",
              "      <td>NaN</td>\n",
              "      <td>NaN</td>\n",
              "      <td>NaN</td>\n",
              "      <td>NaN</td>\n",
              "      <td>NaN</td>\n",
              "      <td>NaN</td>\n",
              "      <td>NaN</td>\n",
              "      <td>NaN</td>\n",
              "    </tr>\n",
              "    <tr>\n",
              "      <th>29503</th>\n",
              "      <td>1.931659</td>\n",
              "      <td>NaN</td>\n",
              "      <td>[Aniplex, GoHands, BROSTA TV, Mardock Scramble...</td>\n",
              "      <td>[{'iso_3166_1': 'US', 'name': 'United States o...</td>\n",
              "      <td>NaN</td>\n",
              "      <td>0</td>\n",
              "      <td>68.0</td>\n",
              "      <td>Released</td>\n",
              "      <td>NaN</td>\n",
              "      <td>Mardock Scramble: The Third Exhaust</td>\n",
              "      <td>[]</td>\n",
              "      <td>[]</td>\n",
              "      <td>12</td>\n",
              "      <td>NaN</td>\n",
              "      <td>NaN</td>\n",
              "      <td>0</td>\n",
              "      <td>NaN</td>\n",
              "      <td>NaN</td>\n",
              "      <td>NaN</td>\n",
              "      <td>NaN</td>\n",
              "      <td>NaN</td>\n",
              "      <td>NaN</td>\n",
              "      <td>NaN</td>\n",
              "      <td>NaN</td>\n",
              "      <td>NaN</td>\n",
              "      <td>NaN</td>\n",
              "    </tr>\n",
              "    <tr>\n",
              "      <th>35587</th>\n",
              "      <td>2.185485</td>\n",
              "      <td>NaN</td>\n",
              "      <td>[Odyssey Media, Pulser Productions, Rogue Stat...</td>\n",
              "      <td>[{'iso_3166_1': 'CA', 'name': 'Canada'}]</td>\n",
              "      <td>NaN</td>\n",
              "      <td>0</td>\n",
              "      <td>82.0</td>\n",
              "      <td>Released</td>\n",
              "      <td>NaN</td>\n",
              "      <td>Avalanche Sharks</td>\n",
              "      <td>[]</td>\n",
              "      <td>[]</td>\n",
              "      <td>22</td>\n",
              "      <td>NaN</td>\n",
              "      <td>NaN</td>\n",
              "      <td>0</td>\n",
              "      <td>NaN</td>\n",
              "      <td>NaN</td>\n",
              "      <td>NaN</td>\n",
              "      <td>NaN</td>\n",
              "      <td>NaN</td>\n",
              "      <td>NaN</td>\n",
              "      <td>NaN</td>\n",
              "      <td>NaN</td>\n",
              "      <td>NaN</td>\n",
              "      <td>NaN</td>\n",
              "    </tr>\n",
              "  </tbody>\n",
              "</table>\n",
              "</div>"
            ],
            "text/plain": [
              "      belongs_to_collection  budget  ... day month\n",
              "19730              0.065736     NaN  ... NaN   NaN\n",
              "29503              1.931659     NaN  ... NaN   NaN\n",
              "35587              2.185485     NaN  ... NaN   NaN\n",
              "\n",
              "[3 rows x 26 columns]"
            ]
          },
          "metadata": {},
          "execution_count": 105
        }
      ]
    },
    {
      "cell_type": "code",
      "metadata": {
        "id": "8dKN8ziPuf-p"
      },
      "source": [
        "df = df.drop([19730, 29503, 35587])"
      ],
      "execution_count": null,
      "outputs": []
    },
    {
      "cell_type": "code",
      "metadata": {
        "id": "8CYowsUxulmn"
      },
      "source": [
        "df['id'] = df['id'].astype('int')"
      ],
      "execution_count": null,
      "outputs": []
    },
    {
      "cell_type": "code",
      "metadata": {
        "colab": {
          "base_uri": "https://localhost:8080/"
        },
        "id": "e7pdCn6SvCQA",
        "outputId": "4bc7f4a9-da9e-48ee-9dcb-12335c97f456"
      },
      "source": [
        "df = df.merge(credits_df, on='id')\n",
        "df.shape"
      ],
      "execution_count": null,
      "outputs": [
        {
          "output_type": "execute_result",
          "data": {
            "text/plain": [
              "(45538, 28)"
            ]
          },
          "metadata": {},
          "execution_count": 108
        }
      ]
    },
    {
      "cell_type": "code",
      "metadata": {
        "id": "P6ullaAfvHpl"
      },
      "source": [
        "df['cast'] = df['cast'].apply(ast.literal_eval)\n",
        "df['crew'] = df['crew'].apply(ast.literal_eval)"
      ],
      "execution_count": null,
      "outputs": []
    },
    {
      "cell_type": "code",
      "metadata": {
        "id": "a_sJsvNBvOlY"
      },
      "source": [
        "df['cast_size'] = df['cast'].apply(lambda x: len(x))\n",
        "df['crew_size'] = df['crew'].apply(lambda x: len(x))"
      ],
      "execution_count": null,
      "outputs": []
    },
    {
      "cell_type": "code",
      "metadata": {
        "id": "INKPxTevvTcB"
      },
      "source": [
        "df['cast'] = df['cast'].apply(lambda x: [i['name'] for i in x] if isinstance(x, list) else [])"
      ],
      "execution_count": null,
      "outputs": []
    },
    {
      "cell_type": "code",
      "metadata": {
        "id": "zQDqijTpvWNs"
      },
      "source": [
        "def get_director(x):\n",
        "    for i in x:\n",
        "        if i['job'] == 'Director':\n",
        "            return i['name']\n",
        "    return np.nan"
      ],
      "execution_count": null,
      "outputs": []
    },
    {
      "cell_type": "code",
      "metadata": {
        "id": "9eTeK8YlvYXr"
      },
      "source": [
        "df['director'] = df['crew'].apply(get_director)"
      ],
      "execution_count": null,
      "outputs": []
    },
    {
      "cell_type": "code",
      "metadata": {
        "colab": {
          "base_uri": "https://localhost:8080/"
        },
        "id": "EMIIU4iDvavE",
        "outputId": "25a6cd7d-7c77-4f5b-cf93-27ff773dd500"
      },
      "source": [
        "s = df.apply(lambda x: pd.Series(x['cast']),axis=1).stack().reset_index(level=1, drop=True)\n",
        "s.name = 'actor'\n",
        "cast_df = df.drop('cast', axis=1).join(s)"
      ],
      "execution_count": null,
      "outputs": [
        {
          "output_type": "stream",
          "name": "stderr",
          "text": [
            "/usr/local/lib/python3.7/dist-packages/ipykernel_launcher.py:1: DeprecationWarning: The default dtype for empty Series will be 'object' instead of 'float64' in a future version. Specify a dtype explicitly to silence this warning.\n",
            "  \"\"\"Entry point for launching an IPython kernel.\n"
          ]
        }
      ]
    },
    {
      "cell_type": "markdown",
      "metadata": {
        "id": "sk9JfKIdLs4C"
      },
      "source": [
        "### 2.C Feature Reshaping\n",
        "Last, but certainly not least, we'll deal with formatting. Our categorical data imported as objects, which makes it difficult for mathematical calculations. We will convert object datatypes to categorical dummy variables."
      ]
    },
    {
      "cell_type": "markdown",
      "metadata": {
        "id": "n0FS4ufAbZP2"
      },
      "source": [
        "##### **budget:**"
      ]
    },
    {
      "cell_type": "code",
      "metadata": {
        "colab": {
          "base_uri": "https://localhost:8080/"
        },
        "id": "YqsWPvrXbi20",
        "outputId": "07ca7d02-a579-4d2f-a822-a7da29853b69"
      },
      "source": [
        "df['budget'] = pd.to_numeric(df['budget'], errors='coerce')\n",
        "df['budget'] = df['budget'].replace(0, np.nan)\n",
        "df[df['budget'].isnull()].shape"
      ],
      "execution_count": null,
      "outputs": [
        {
          "output_type": "execute_result",
          "data": {
            "text/plain": [
              "(36576, 23)"
            ]
          },
          "metadata": {},
          "execution_count": 35
        }
      ]
    },
    {
      "cell_type": "markdown",
      "metadata": {
        "id": "kbdA7v9Hb73E"
      },
      "source": [
        "The **budget** feature has some unclean values that makes Pandas assign it as a generic object. We proceed to convert this into a numeric variable and replace all the non-numeric values with NaN. Finally, as with budget, we will convert all the values of 0 with NaN to indicate the absence of information regarding budget."
      ]
    },
    {
      "cell_type": "markdown",
      "metadata": {
        "id": "fXRZa3ONgKKL"
      },
      "source": [
        "##### **Popularity, Vote Average and Vote Count:**"
      ]
    },
    {
      "cell_type": "code",
      "metadata": {
        "id": "p7-tJtCzgNgf"
      },
      "source": [
        "def clean_numeric(x):\n",
        "    try:\n",
        "        return float(x)\n",
        "    except:\n",
        "        return np.nan"
      ],
      "execution_count": null,
      "outputs": []
    },
    {
      "cell_type": "code",
      "metadata": {
        "id": "pvjUgzgegQ64"
      },
      "source": [
        "df['popularity'] = df['popularity'].apply(clean_numeric).astype('float')\n",
        "df['vote_count'] = df['vote_count'].apply(clean_numeric).astype('float')\n",
        "df['vote_average'] = df['vote_average'].apply(clean_numeric).astype('float')"
      ],
      "execution_count": null,
      "outputs": []
    },
    {
      "cell_type": "code",
      "metadata": {
        "colab": {
          "base_uri": "https://localhost:8080/"
        },
        "id": "beEYIHYkgUpP",
        "outputId": "55ac2e10-7389-4e45-a555-f3297f8383c4"
      },
      "source": [
        "df['popularity'].describe()"
      ],
      "execution_count": null,
      "outputs": [
        {
          "output_type": "execute_result",
          "data": {
            "text/plain": [
              "count    45460.000000\n",
              "mean         2.921478\n",
              "std          6.005414\n",
              "min          0.000000\n",
              "25%          0.385948\n",
              "50%          1.127685\n",
              "75%          3.678902\n",
              "max        547.488298\n",
              "Name: popularity, dtype: float64"
            ]
          },
          "metadata": {},
          "execution_count": 47
        }
      ]
    },
    {
      "cell_type": "markdown",
      "metadata": {
        "id": "uzNqOG5IfftJ"
      },
      "source": [
        "##### **production_countries:**"
      ]
    },
    {
      "cell_type": "code",
      "metadata": {
        "id": "ZFjJad2Kfev3"
      },
      "source": [
        "df['production_countries'] = df['production_countries'].fillna('[]').apply(ast.literal_eval)\n",
        "df['production_countries'] = df['production_countries'].apply(lambda x: [i['name'] for i in x] if isinstance(x, list) else [])"
      ],
      "execution_count": null,
      "outputs": []
    },
    {
      "cell_type": "markdown",
      "metadata": {
        "id": "babK_eWsdvcW"
      },
      "source": [
        "##### **production_companies:**"
      ]
    },
    {
      "cell_type": "code",
      "metadata": {
        "id": "55xLQ7OIfOXO"
      },
      "source": [
        "df['production_companies'] = df['production_companies'].fillna('[]').apply(ast.literal_eval)\n",
        "df['production_companies'] = df['production_companies'].apply(lambda x: [i['name'] for i in x] if isinstance(x, list) else [])"
      ],
      "execution_count": null,
      "outputs": []
    },
    {
      "cell_type": "markdown",
      "metadata": {
        "id": "PG5oQ5-WLXIE"
      },
      "source": [
        "## 3.Exploratory Analysis\n",
        "Now that our data is cleaned, we will explore our data with descriptive and graphical statistics to describe and summarize our variables."
      ]
    },
    {
      "cell_type": "markdown",
      "metadata": {
        "id": "5aROBQCRMHRw"
      },
      "source": [
        "### 3.A Features Distributions\n",
        "In order to understand how the values of a continuos feature distribute we can use the kde (Kernel Density Estimate) plot"
      ]
    },
    {
      "cell_type": "markdown",
      "metadata": {
        "id": "Z0QpFta6gxOH"
      },
      "source": [
        "##### **popularity:**"
      ]
    },
    {
      "cell_type": "code",
      "metadata": {
        "colab": {
          "base_uri": "https://localhost:8080/"
        },
        "id": "O1wXUgBpgx0m",
        "outputId": "049305e4-edb3-490a-9ffd-34ee0dca6b7b"
      },
      "source": [
        "df['popularity'].describe()"
      ],
      "execution_count": null,
      "outputs": [
        {
          "output_type": "execute_result",
          "data": {
            "text/plain": [
              "count    45460.000000\n",
              "mean         2.921478\n",
              "std          6.005414\n",
              "min          0.000000\n",
              "25%          0.385948\n",
              "50%          1.127685\n",
              "75%          3.678902\n",
              "max        547.488298\n",
              "Name: popularity, dtype: float64"
            ]
          },
          "metadata": {},
          "execution_count": 48
        }
      ]
    },
    {
      "cell_type": "code",
      "metadata": {
        "colab": {
          "base_uri": "https://localhost:8080/",
          "height": 333
        },
        "id": "rt-3Qhi_g2t2",
        "outputId": "ca5bd8fc-8542-4448-a026-3efa551b4358"
      },
      "source": [
        "sns.distplot(df['popularity'].fillna(df['popularity'].median()))\n",
        "plt.show()"
      ],
      "execution_count": null,
      "outputs": [
        {
          "output_type": "stream",
          "name": "stderr",
          "text": [
            "/usr/local/lib/python3.7/dist-packages/seaborn/distributions.py:2619: FutureWarning: `distplot` is a deprecated function and will be removed in a future version. Please adapt your code to use either `displot` (a figure-level function with similar flexibility) or `histplot` (an axes-level function for histograms).\n",
            "  warnings.warn(msg, FutureWarning)\n"
          ]
        },
        {
          "output_type": "display_data",
          "data": {
            "image/png": "[encoded data removed]",
            "text/plain": [
              "<Figure size 432x288 with 1 Axes>"
            ]
          },
          "metadata": {
            "needs_background": "light"
          }
        }
      ]
    },
    {
      "cell_type": "code",
      "metadata": {
        "colab": {
          "base_uri": "https://localhost:8080/",
          "height": 282
        },
        "id": "7uR2AgrlhO92",
        "outputId": "f865f3e8-0576-4530-9be9-c2286191ca80"
      },
      "source": [
        "df['popularity'].plot(logy=True, kind='hist')"
      ],
      "execution_count": null,
      "outputs": [
        {
          "output_type": "execute_result",
          "data": {
            "text/plain": [
              "<matplotlib.axes._subplots.AxesSubplot at 0x7fb201eb3b10>"
            ]
          },
          "metadata": {},
          "execution_count": 54
        },
        {
          "output_type": "display_data",
          "data": {
            "image/png": "[encoded data removed]",
            "text/plain": [
              "<Figure size 432x288 with 1 Axes>"
            ]
          },
          "metadata": {
            "needs_background": "light"
          }
        }
      ]
    },
    {
      "cell_type": "markdown",
      "metadata": {
        "id": "1iMp_4PZhRaq"
      },
      "source": [
        "The Popularity score seems to be an extremely skewed quentity with a mean of only **2.9** but maximum values reaching as high as 547, which is almost 1800% greater than the mean. However, as can be seen from the distribution plot, almost all movies have a popularity score less than 10 (the 75th percentile is at 3.678902)."
      ]
    },
    {
      "cell_type": "markdown",
      "metadata": {
        "id": "05cahDJdhmIJ"
      },
      "source": [
        "##### **vote_count:**"
      ]
    },
    {
      "cell_type": "code",
      "metadata": {
        "colab": {
          "base_uri": "https://localhost:8080/"
        },
        "id": "mjxWbFHKhmpc",
        "outputId": "c5d8301a-04e4-4602-c3ee-1a0322a06d2c"
      },
      "source": [
        "df['vote_count'].describe()"
      ],
      "execution_count": null,
      "outputs": [
        {
          "output_type": "execute_result",
          "data": {
            "text/plain": [
              "count    45460.000000\n",
              "mean       109.897338\n",
              "std        491.310374\n",
              "min          0.000000\n",
              "25%          3.000000\n",
              "50%         10.000000\n",
              "75%         34.000000\n",
              "max      14075.000000\n",
              "Name: vote_count, dtype: float64"
            ]
          },
          "metadata": {},
          "execution_count": 55
        }
      ]
    },
    {
      "cell_type": "code",
      "metadata": {
        "colab": {
          "base_uri": "https://localhost:8080/",
          "height": 334
        },
        "id": "agQ65QsCh-Wp",
        "outputId": "73c8b40f-cdf9-4d87-89d8-a6314150ca28"
      },
      "source": [
        "sns.distplot(df['vote_count'].fillna(df['vote_count'].median()))\n",
        "plt.show()"
      ],
      "execution_count": null,
      "outputs": [
        {
          "output_type": "stream",
          "name": "stderr",
          "text": [
            "/usr/local/lib/python3.7/dist-packages/seaborn/distributions.py:2619: FutureWarning: `distplot` is a deprecated function and will be removed in a future version. Please adapt your code to use either `displot` (a figure-level function with similar flexibility) or `histplot` (an axes-level function for histograms).\n",
            "  warnings.warn(msg, FutureWarning)\n"
          ]
        },
        {
          "output_type": "display_data",
          "data": {
            "image/png": "[encoded data removed]",
            "text/plain": [
              "<Figure size 432x288 with 1 Axes>"
            ]
          },
          "metadata": {
            "needs_background": "light"
          }
        }
      ]
    },
    {
      "cell_type": "code",
      "metadata": {
        "colab": {
          "base_uri": "https://localhost:8080/",
          "height": 282
        },
        "id": "3wGA7sniiGxl",
        "outputId": "81c2126f-38af-48a4-902d-e681ba283646"
      },
      "source": [
        "df['vote_count'].plot(logy=True, kind='hist')"
      ],
      "execution_count": null,
      "outputs": [
        {
          "output_type": "execute_result",
          "data": {
            "text/plain": [
              "<matplotlib.axes._subplots.AxesSubplot at 0x7fb201c7cdd0>"
            ]
          },
          "metadata": {},
          "execution_count": 57
        },
        {
          "output_type": "display_data",
          "data": {
            "image/png": "[encoded data removed]",
            "text/plain": [
              "<Figure size 432x288 with 1 Axes>"
            ]
          },
          "metadata": {
            "needs_background": "light"
          }
        }
      ]
    },
    {
      "cell_type": "markdown",
      "metadata": {
        "id": "5RprWRGSh4WJ"
      },
      "source": [
        "The distribution of vote counts is extremely skewed with the median vote count standing at a paltry 10 votes. The most votes a single movie has got stands at 14,075. TMDB Votes, therefore, are not as potent and suggestive as its IMDB Counterpart."
      ]
    },
    {
      "cell_type": "markdown",
      "metadata": {
        "id": "u28R98uOiQZn"
      },
      "source": [
        "##### **vote_average:**"
      ]
    },
    {
      "cell_type": "code",
      "metadata": {
        "colab": {
          "base_uri": "https://localhost:8080/"
        },
        "id": "26gt_j-miU2t",
        "outputId": "99f9b8e2-618c-4d9f-9ba3-db75e21c0e2a"
      },
      "source": [
        "df['vote_average'] = df['vote_average'].replace(0, np.nan)\n",
        "df['vote_average'].describe()"
      ],
      "execution_count": null,
      "outputs": [
        {
          "output_type": "execute_result",
          "data": {
            "text/plain": [
              "count    42462.000000\n",
              "mean         6.014877\n",
              "std          1.256208\n",
              "min          0.500000\n",
              "25%          5.300000\n",
              "50%          6.100000\n",
              "75%          6.900000\n",
              "max         10.000000\n",
              "Name: vote_average, dtype: float64"
            ]
          },
          "metadata": {},
          "execution_count": 58
        }
      ]
    },
    {
      "cell_type": "code",
      "metadata": {
        "colab": {
          "base_uri": "https://localhost:8080/",
          "height": 351
        },
        "id": "MJ7wF8DriYnZ",
        "outputId": "e3600f8c-9096-4e0c-a2bb-70c29b00d4a6"
      },
      "source": [
        "sns.distplot(df['vote_average'].fillna(df['vote_average'].median()))"
      ],
      "execution_count": null,
      "outputs": [
        {
          "output_type": "stream",
          "name": "stderr",
          "text": [
            "/usr/local/lib/python3.7/dist-packages/seaborn/distributions.py:2619: FutureWarning: `distplot` is a deprecated function and will be removed in a future version. Please adapt your code to use either `displot` (a figure-level function with similar flexibility) or `histplot` (an axes-level function for histograms).\n",
            "  warnings.warn(msg, FutureWarning)\n"
          ]
        },
        {
          "output_type": "execute_result",
          "data": {
            "text/plain": [
              "<matplotlib.axes._subplots.AxesSubplot at 0x7fb201bcafd0>"
            ]
          },
          "metadata": {},
          "execution_count": 59
        },
        {
          "output_type": "display_data",
          "data": {
            "image/png": "[encoded data removed]",
            "text/plain": [
              "<Figure size 432x288 with 1 Axes>"
            ]
          },
          "metadata": {
            "needs_background": "light"
          }
        }
      ]
    },
    {
      "cell_type": "code",
      "metadata": {
        "colab": {
          "base_uri": "https://localhost:8080/",
          "height": 282
        },
        "id": "jLYadQ3GiwFz",
        "outputId": "008fd76e-426c-4f40-e32b-9a513841193f"
      },
      "source": [
        "df['vote_average'].plot(logy=True, kind='hist')"
      ],
      "execution_count": null,
      "outputs": [
        {
          "output_type": "execute_result",
          "data": {
            "text/plain": [
              "<matplotlib.axes._subplots.AxesSubplot at 0x7fb201bcd0d0>"
            ]
          },
          "metadata": {},
          "execution_count": 61
        },
        {
          "output_type": "display_data",
          "data": {
            "image/png": "[encoded data removed]",
            "text/plain": [
              "<Figure size 432x288 with 1 Axes>"
            ]
          },
          "metadata": {
            "needs_background": "light"
          }
        }
      ]
    },
    {
      "cell_type": "markdown",
      "metadata": {
        "id": "FFCjLY-Fip2F"
      },
      "source": [
        "It appears that TMDB Users are extremely strict in their ratings. The mean rating is only a **5.6** on a scale of 10. Half the movies have a rating of less than or equal to 6. Let us check what the most critically acclaimed movies as per TMDB are. We will only consider those movies that have more than 2000 votes (similar to IMDB's criteria of 5000 votes in selecting its top 250)."
      ]
    },
    {
      "cell_type": "markdown",
      "metadata": {
        "id": "tvK6zG7qkXX3"
      },
      "source": [
        "##### **month and day:**\n",
        "The most popular and most successful months and days."
      ]
    },
    {
      "cell_type": "code",
      "metadata": {
        "colab": {
          "base_uri": "https://localhost:8080/",
          "height": 421
        },
        "id": "-UZ4GfAPkaaW",
        "outputId": "2f0709b2-e072-40ce-bae2-22490da23227"
      },
      "source": [
        "plt.figure(figsize=(12,6))\n",
        "plt.title(\"Number of Movies released in a particular month.\")\n",
        "sns.countplot(x='month', data=df, order=month_order)"
      ],
      "execution_count": null,
      "outputs": [
        {
          "output_type": "execute_result",
          "data": {
            "text/plain": [
              "<matplotlib.axes._subplots.AxesSubplot at 0x7fb1dff3ed10>"
            ]
          },
          "metadata": {},
          "execution_count": 69
        },
        {
          "output_type": "display_data",
          "data": {
            "image/png": "[encoded data removed]",
            "text/plain": [
              "<Figure size 864x432 with 1 Axes>"
            ]
          },
          "metadata": {
            "needs_background": "light"
          }
        }
      ]
    },
    {
      "cell_type": "markdown",
      "metadata": {
        "id": "EO9Odd-Bksbo"
      },
      "source": [
        "It appears that **January** is the most popular month when it comes to movie releases. In Hollywood circles, this is also known as the *the dump month* when sub par movies are released by the dozen. \n",
        "\n",
        "In which months do bockbuster movies tend to release? To answer this question, we will consider all movies that have made in excess of 100 million dollars and calculate the average gross for each month."
      ]
    },
    {
      "cell_type": "code",
      "metadata": {
        "colab": {
          "base_uri": "https://localhost:8080/",
          "height": 421
        },
        "id": "ib4ll-L2kzq9",
        "outputId": "d840d182-a161-4e29-9328-103c9d13f510"
      },
      "source": [
        "month_mean = pd.DataFrame(df[df['revenue'] > 1e8].groupby('month')['revenue'].mean())\n",
        "month_mean['mon'] = month_mean.index\n",
        "plt.figure(figsize=(12,6))\n",
        "plt.title(\"Average Gross by the Month for Blockbuster Movies\")\n",
        "sns.barplot(x='mon', y='revenue', data=month_mean, order=month_order)"
      ],
      "execution_count": null,
      "outputs": [
        {
          "output_type": "execute_result",
          "data": {
            "text/plain": [
              "<matplotlib.axes._subplots.AxesSubplot at 0x7fb1dfc66590>"
            ]
          },
          "metadata": {},
          "execution_count": 70
        },
        {
          "output_type": "display_data",
          "data": {
            "image/png": "[encoded data removed]",
            "text/plain": [
              "<Figure size 864x432 with 1 Axes>"
            ]
          },
          "metadata": {
            "needs_background": "light"
          }
        }
      ]
    },
    {
      "cell_type": "markdown",
      "metadata": {
        "id": "s9Ilq_Jpk28p"
      },
      "source": [
        "We see that the months of **April**, **May** and **June** have the highest average gross among high grossing movies. This can be attributed to the fact that blockbuster movies are usually released in the summer when the kids are out of school and the parents are on vacation and therefore, the audience is more likely to spend their disposable income on entertainment.\n",
        "\n",
        "Do some months tend to be more successful than others? Let us visualise the boxplot between the return and the months."
      ]
    },
    {
      "cell_type": "code",
      "metadata": {
        "colab": {
          "base_uri": "https://localhost:8080/",
          "height": 518
        },
        "id": "poA_jEZRk_0N",
        "outputId": "0a010ba5-ffbb-4f3d-b299-9c6f5cf62f2c"
      },
      "source": [
        "fig, ax = plt.subplots(nrows=1, ncols=1,figsize=(15, 8))\n",
        "sns.boxplot(x='month', y='return', data=df[df['return'].notnull()], palette=\"muted\", ax =ax, order=month_order)\n",
        "ax.set_ylim([0, 12])"
      ],
      "execution_count": null,
      "outputs": [
        {
          "output_type": "execute_result",
          "data": {
            "text/plain": [
              "(0.0, 12.0)"
            ]
          },
          "metadata": {},
          "execution_count": 71
        },
        {
          "output_type": "display_data",
          "data": {
            "image/png": "[encoded data removed]",
            "text/plain": [
              "<Figure size 1080x576 with 1 Axes>"
            ]
          },
          "metadata": {
            "needs_background": "light"
          }
        }
      ]
    },
    {
      "cell_type": "markdown",
      "metadata": {
        "id": "HNupzHHxlEdM"
      },
      "source": [
        "The months of **June** and **July** tend to yield the highest median returns. **September** is the least successful months on the aforementioned metrics. Again, the success of June and July movies can be attributed to them being summer months and times of vacation. September usually denotes the beginning of the school/college semester and hence a slight reduction in the consumption of movies.\n",
        "\n",
        "Let us now have a look at the most popular days as we did for months."
      ]
    },
    {
      "cell_type": "code",
      "metadata": {
        "colab": {
          "base_uri": "https://localhost:8080/",
          "height": 367
        },
        "id": "A8oM5nxUlIh3",
        "outputId": "3f26199a-1420-422b-d9ad-92ef6e3decec"
      },
      "source": [
        "plt.figure(figsize=(10,5))\n",
        "plt.title(\"Number of Movies released on a particular day.\")\n",
        "sns.countplot(x='day', data=df, order=day_order)"
      ],
      "execution_count": null,
      "outputs": [
        {
          "output_type": "execute_result",
          "data": {
            "text/plain": [
              "<matplotlib.axes._subplots.AxesSubplot at 0x7fb1df459490>"
            ]
          },
          "metadata": {},
          "execution_count": 73
        },
        {
          "output_type": "display_data",
          "data": {
            "image/png": "[encoded data removed]",
            "text/plain": [
              "<Figure size 720x360 with 1 Axes>"
            ]
          },
          "metadata": {
            "needs_background": "light"
          }
        }
      ]
    },
    {
      "cell_type": "markdown",
      "metadata": {
        "id": "ONUl3PtDlPwN"
      },
      "source": [
        "**Friday** is clearly the most popular day for movie releases. This is understandable considering the fact that it usually denotes the beginning of the weekend. **Sunday** and **Monday** are the least popular days and this can be attributed to the same aforementioned reason."
      ]
    },
    {
      "cell_type": "markdown",
      "metadata": {
        "id": "3aVOXTCHlT6K"
      },
      "source": [
        "##### **year:**\n",
        "The Dataset of 45,000 movies available to us does not represent the entire corpus of movies released since the inception of cinema. However, it is reasomnable to assume that it does include almost every major film released in Hollywood as well as other major film industries across the world (such as Bollywood in India). With this assumption in mind, let us take a look at the number of movies produced by the year."
      ]
    },
    {
      "cell_type": "code",
      "metadata": {
        "colab": {
          "base_uri": "https://localhost:8080/",
          "height": 318
        },
        "id": "VHV1LwwBlWwZ",
        "outputId": "477ab634-a053-4aa6-d295-19e7427a58ff"
      },
      "source": [
        "year_count = df.groupby('year')['title'].count()\n",
        "plt.figure(figsize=(18,5))\n",
        "year_count.plot()"
      ],
      "execution_count": null,
      "outputs": [
        {
          "output_type": "execute_result",
          "data": {
            "text/plain": [
              "<matplotlib.axes._subplots.AxesSubplot at 0x7fb1df52d790>"
            ]
          },
          "metadata": {},
          "execution_count": 74
        },
        {
          "output_type": "display_data",
          "data": {
            "image/png": "[encoded data removed]",
            "text/plain": [
              "<Figure size 1296x360 with 1 Axes>"
            ]
          },
          "metadata": {
            "needs_background": "light"
          }
        }
      ]
    },
    {
      "cell_type": "markdown",
      "metadata": {
        "id": "t0oopBBbllEy"
      },
      "source": [
        "We notice that there is a sharp rise in the number of movies **starting the 1990s decade.** However, we will not look too much into this as it is entirely possible that recent movies were oversampled for the purposes of this dataset."
      ]
    },
    {
      "cell_type": "markdown",
      "metadata": {
        "id": "-ILQEepmoT-k"
      },
      "source": [
        "##### **runtime:**\n",
        "From its humble beginnings of 1 minute slient, black & white clips to epic 3 hour visual delights, movies have a come a long way in terms of runtime. In this section, let us try and gain some additional insights about the nature of movie lengths and their evolution over time."
      ]
    },
    {
      "cell_type": "code",
      "metadata": {
        "colab": {
          "base_uri": "https://localhost:8080/"
        },
        "id": "VWBJqHtEoakJ",
        "outputId": "5b45f543-3e55-4625-f889-d9b70a024fcb"
      },
      "source": [
        "df['runtime'].describe()"
      ],
      "execution_count": null,
      "outputs": [
        {
          "output_type": "execute_result",
          "data": {
            "text/plain": [
              "count    45203.000000\n",
              "mean        94.128199\n",
              "std         38.407810\n",
              "min          0.000000\n",
              "25%         85.000000\n",
              "50%         95.000000\n",
              "75%        107.000000\n",
              "max       1256.000000\n",
              "Name: runtime, dtype: float64"
            ]
          },
          "metadata": {},
          "execution_count": 78
        }
      ]
    },
    {
      "cell_type": "markdown",
      "metadata": {
        "id": "m7Cel83gocz3"
      },
      "source": [
        "The average length of a movie is about 1 hour and 30 minutes. The longest movie on record in this dataset is a **staggering 1256 minutes (or 20 hours) long.**"
      ]
    },
    {
      "cell_type": "code",
      "metadata": {
        "id": "vNxTumk_oibR"
      },
      "source": [
        "df['runtime'] = df['runtime'].astype('float')"
      ],
      "execution_count": null,
      "outputs": []
    },
    {
      "cell_type": "markdown",
      "metadata": {
        "id": "asncaLiUo18f"
      },
      "source": [
        "We are aware that most movies are less than 5 hours (or 300 minutes) long. Let us plot a distribution of these mainstream movies."
      ]
    },
    {
      "cell_type": "code",
      "metadata": {
        "colab": {
          "base_uri": "https://localhost:8080/",
          "height": 459
        },
        "id": "2vzPnJMgoxi6",
        "outputId": "61dde80f-c07e-46b0-faea-ddb6d2367a27"
      },
      "source": [
        "plt.figure(figsize=(12,6))\n",
        "sns.distplot(df[(df['runtime'] < 300) & (df['runtime'] > 0)]['runtime'])"
      ],
      "execution_count": null,
      "outputs": [
        {
          "output_type": "stream",
          "name": "stderr",
          "text": [
            "/usr/local/lib/python3.7/dist-packages/seaborn/distributions.py:2619: FutureWarning: `distplot` is a deprecated function and will be removed in a future version. Please adapt your code to use either `displot` (a figure-level function with similar flexibility) or `histplot` (an axes-level function for histograms).\n",
            "  warnings.warn(msg, FutureWarning)\n"
          ]
        },
        {
          "output_type": "execute_result",
          "data": {
            "text/plain": [
              "<matplotlib.axes._subplots.AxesSubplot at 0x7fb1dd010690>"
            ]
          },
          "metadata": {},
          "execution_count": 80
        },
        {
          "output_type": "display_data",
          "data": {
            "image/png": "[encoded data removed]",
            "text/plain": [
              "<Figure size 864x432 with 1 Axes>"
            ]
          },
          "metadata": {
            "needs_background": "light"
          }
        }
      ]
    },
    {
      "cell_type": "markdown",
      "metadata": {
        "id": "F5D1S2bxqV1c"
      },
      "source": [
        "##### **budget:**"
      ]
    },
    {
      "cell_type": "code",
      "metadata": {
        "colab": {
          "base_uri": "https://localhost:8080/"
        },
        "id": "hGXs77Zuqada",
        "outputId": "4a512747-4151-4ae2-9ae4-496c6b491a6c"
      },
      "source": [
        "df['budget'].describe()"
      ],
      "execution_count": null,
      "outputs": [
        {
          "output_type": "execute_result",
          "data": {
            "text/plain": [
              "count    8.890000e+03\n",
              "mean     2.160428e+07\n",
              "std      3.431063e+07\n",
              "min      1.000000e+00\n",
              "25%      2.000000e+06\n",
              "50%      8.000000e+06\n",
              "75%      2.500000e+07\n",
              "max      3.800000e+08\n",
              "Name: budget, dtype: float64"
            ]
          },
          "metadata": {},
          "execution_count": 84
        }
      ]
    },
    {
      "cell_type": "markdown",
      "metadata": {
        "id": "U5UWM1eIqitX"
      },
      "source": [
        "The mean budget of a film is 21.6 million dollars whereas the median budget is far smaller at 8 million dollars. This strongly suggests the mean being influenced by outliers. "
      ]
    },
    {
      "cell_type": "code",
      "metadata": {
        "colab": {
          "base_uri": "https://localhost:8080/",
          "height": 361
        },
        "id": "2_xLjUUvqlM-",
        "outputId": "2a45299d-5cb9-41bc-aeba-bec8a1e2dee2"
      },
      "source": [
        "sns.distplot(df[df['budget'].notnull()]['budget'])"
      ],
      "execution_count": null,
      "outputs": [
        {
          "output_type": "stream",
          "name": "stderr",
          "text": [
            "/usr/local/lib/python3.7/dist-packages/seaborn/distributions.py:2619: FutureWarning: `distplot` is a deprecated function and will be removed in a future version. Please adapt your code to use either `displot` (a figure-level function with similar flexibility) or `histplot` (an axes-level function for histograms).\n",
            "  warnings.warn(msg, FutureWarning)\n"
          ]
        },
        {
          "output_type": "execute_result",
          "data": {
            "text/plain": [
              "<matplotlib.axes._subplots.AxesSubplot at 0x7fb1de34d390>"
            ]
          },
          "metadata": {},
          "execution_count": 85
        },
        {
          "output_type": "display_data",
          "data": {
            "image/png": "[encoded data removed]",
            "text/plain": [
              "<Figure size 432x288 with 1 Axes>"
            ]
          },
          "metadata": {
            "needs_background": "light"
          }
        }
      ]
    },
    {
      "cell_type": "code",
      "metadata": {
        "colab": {
          "base_uri": "https://localhost:8080/",
          "height": 298
        },
        "id": "hExwgKUeqpGO",
        "outputId": "275e5388-8d53-4201-9d5d-b2c73f3b257c"
      },
      "source": [
        "df['budget'].plot(logy=True, kind='hist')"
      ],
      "execution_count": null,
      "outputs": [
        {
          "output_type": "execute_result",
          "data": {
            "text/plain": [
              "<matplotlib.axes._subplots.AxesSubplot at 0x7fb1de34db90>"
            ]
          },
          "metadata": {},
          "execution_count": 86
        },
        {
          "output_type": "display_data",
          "data": {
            "image/png": "[encoded data removed]",
            "text/plain": [
              "<Figure size 432x288 with 1 Axes>"
            ]
          },
          "metadata": {
            "needs_background": "light"
          }
        }
      ]
    },
    {
      "cell_type": "markdown",
      "metadata": {
        "id": "re_2OlfGqmgJ"
      },
      "source": [
        "The distribution of movie budgets shows an exponential decay. More than 75% of the movies have a budget smaller than 25 million dollars. Next, let us take a look at the most expensive movies of all time and the revenue & returns that they generated."
      ]
    },
    {
      "cell_type": "markdown",
      "metadata": {
        "id": "3IFDTrhkrNl3"
      },
      "source": [
        "##### **revenue:**"
      ]
    },
    {
      "cell_type": "code",
      "metadata": {
        "colab": {
          "base_uri": "https://localhost:8080/"
        },
        "id": "5XK8_JyurUG8",
        "outputId": "ccc88c5e-3c9f-4f42-b3d3-851e4c3ac882"
      },
      "source": [
        "df['revenue'].describe()"
      ],
      "execution_count": null,
      "outputs": [
        {
          "output_type": "execute_result",
          "data": {
            "text/plain": [
              "count    7.408000e+03\n",
              "mean     6.878739e+07\n",
              "std      1.464203e+08\n",
              "min      1.000000e+00\n",
              "25%      2.400000e+06\n",
              "50%      1.682272e+07\n",
              "75%      6.722707e+07\n",
              "max      2.787965e+09\n",
              "Name: revenue, dtype: float64"
            ]
          },
          "metadata": {},
          "execution_count": 88
        }
      ]
    },
    {
      "cell_type": "markdown",
      "metadata": {
        "id": "CUQDSi7Crbbb"
      },
      "source": [
        "The mean gross of a movie is **68.7 million dollars** whereas the median gross is much lower at **16.8 million dollars**, suggesting the skewed nature of revenue. The lowest revenue generated by a movie is **just 1 dollar** whereas the highest grossing movie of all time has raked in an astonishing **2.78 billion dollars.*"
      ]
    },
    {
      "cell_type": "code",
      "metadata": {
        "colab": {
          "base_uri": "https://localhost:8080/",
          "height": 361
        },
        "id": "ac5Xj2qmrenD",
        "outputId": "0ec2d415-02f2-4df5-ca1e-c3e598727abb"
      },
      "source": [
        "sns.distplot(df[df['revenue'].notnull()]['revenue'])"
      ],
      "execution_count": null,
      "outputs": [
        {
          "output_type": "stream",
          "name": "stderr",
          "text": [
            "/usr/local/lib/python3.7/dist-packages/seaborn/distributions.py:2619: FutureWarning: `distplot` is a deprecated function and will be removed in a future version. Please adapt your code to use either `displot` (a figure-level function with similar flexibility) or `histplot` (an axes-level function for histograms).\n",
            "  warnings.warn(msg, FutureWarning)\n"
          ]
        },
        {
          "output_type": "execute_result",
          "data": {
            "text/plain": [
              "<matplotlib.axes._subplots.AxesSubplot at 0x7fb1deba6f90>"
            ]
          },
          "metadata": {},
          "execution_count": 89
        },
        {
          "output_type": "display_data",
          "data": {
            "image/png": "[encoded data removed]",
            "text/plain": [
              "<Figure size 432x288 with 1 Axes>"
            ]
          },
          "metadata": {
            "needs_background": "light"
          }
        }
      ]
    },
    {
      "cell_type": "markdown",
      "metadata": {
        "id": "O-2mOF9grgIm"
      },
      "source": [
        "The distribution of revenue undergoes exponential decay just like budget. We also found that the two quantities were strongly correlated. Let us now take a look at the highest and least grossing movies of all time."
      ]
    },
    {
      "cell_type": "markdown",
      "metadata": {
        "id": "CefH7WbmsS-z"
      },
      "source": [
        "##### **Genres:**"
      ]
    },
    {
      "cell_type": "code",
      "metadata": {
        "id": "61bp5VQFsTXp"
      },
      "source": [
        "df['genres'] = df['genres'].fillna('[]').apply(ast.literal_eval).apply(lambda x: [i['name'] for i in x] if isinstance(x, list) else [])"
      ],
      "execution_count": null,
      "outputs": []
    },
    {
      "cell_type": "code",
      "metadata": {
        "colab": {
          "base_uri": "https://localhost:8080/"
        },
        "id": "bHhT4psJsbUF",
        "outputId": "57520c26-b82e-4bc8-a096-40b08689ea97"
      },
      "source": [
        "s = df.apply(lambda x: pd.Series(x['genres']),axis=1).stack().reset_index(level=1, drop=True)\n",
        "s.name = 'genre'"
      ],
      "execution_count": null,
      "outputs": [
        {
          "output_type": "stream",
          "name": "stderr",
          "text": [
            "/usr/local/lib/python3.7/dist-packages/ipykernel_launcher.py:1: DeprecationWarning: The default dtype for empty Series will be 'object' instead of 'float64' in a future version. Specify a dtype explicitly to silence this warning.\n",
            "  \"\"\"Entry point for launching an IPython kernel.\n"
          ]
        }
      ]
    },
    {
      "cell_type": "code",
      "metadata": {
        "id": "xoc7ERFQse1x"
      },
      "source": [
        "gen_df = df.drop('genres', axis=1).join(s)"
      ],
      "execution_count": null,
      "outputs": []
    },
    {
      "cell_type": "code",
      "metadata": {
        "colab": {
          "base_uri": "https://localhost:8080/"
        },
        "id": "jQvtf5GnsttR",
        "outputId": "b08ce32a-b818-492d-8474-a64b4ba6ccdf"
      },
      "source": [
        "gen_df['genre'].value_counts().shape[0]"
      ],
      "execution_count": null,
      "outputs": [
        {
          "output_type": "execute_result",
          "data": {
            "text/plain": [
              "32"
            ]
          },
          "metadata": {},
          "execution_count": 100
        }
      ]
    },
    {
      "cell_type": "markdown",
      "metadata": {
        "id": "6yhi_-eSsw8l"
      },
      "source": [
        "TMDB defines 32 different genres for our set of 45,000 movies. Let us now have a look at the most commonly occuring genres in movies."
      ]
    },
    {
      "cell_type": "code",
      "metadata": {
        "colab": {
          "base_uri": "https://localhost:8080/",
          "height": 359
        },
        "id": "LwoFPw05s0vp",
        "outputId": "18f0d8e0-9522-4c3e-fca2-063a23ae9f52"
      },
      "source": [
        "pop_gen = pd.DataFrame(gen_df['genre'].value_counts()).reset_index()\n",
        "pop_gen.columns = ['genre', 'movies']\n",
        "pop_gen.head(10)"
      ],
      "execution_count": null,
      "outputs": [
        {
          "output_type": "execute_result",
          "data": {
            "text/html": [
              "<div>\n",
              "<style scoped>\n",
              "    .dataframe tbody tr th:only-of-type {\n",
              "        vertical-align: middle;\n",
              "    }\n",
              "\n",
              "    .dataframe tbody tr th {\n",
              "        vertical-align: top;\n",
              "    }\n",
              "\n",
              "    .dataframe thead th {\n",
              "        text-align: right;\n",
              "    }\n",
              "</style>\n",
              "<table border=\"1\" class=\"dataframe\">\n",
              "  <thead>\n",
              "    <tr style=\"text-align: right;\">\n",
              "      <th></th>\n",
              "      <th>genre</th>\n",
              "      <th>movies</th>\n",
              "    </tr>\n",
              "  </thead>\n",
              "  <tbody>\n",
              "    <tr>\n",
              "      <th>0</th>\n",
              "      <td>Drama</td>\n",
              "      <td>20265</td>\n",
              "    </tr>\n",
              "    <tr>\n",
              "      <th>1</th>\n",
              "      <td>Comedy</td>\n",
              "      <td>13182</td>\n",
              "    </tr>\n",
              "    <tr>\n",
              "      <th>2</th>\n",
              "      <td>Thriller</td>\n",
              "      <td>7624</td>\n",
              "    </tr>\n",
              "    <tr>\n",
              "      <th>3</th>\n",
              "      <td>Romance</td>\n",
              "      <td>6735</td>\n",
              "    </tr>\n",
              "    <tr>\n",
              "      <th>4</th>\n",
              "      <td>Action</td>\n",
              "      <td>6596</td>\n",
              "    </tr>\n",
              "    <tr>\n",
              "      <th>5</th>\n",
              "      <td>Horror</td>\n",
              "      <td>4673</td>\n",
              "    </tr>\n",
              "    <tr>\n",
              "      <th>6</th>\n",
              "      <td>Crime</td>\n",
              "      <td>4307</td>\n",
              "    </tr>\n",
              "    <tr>\n",
              "      <th>7</th>\n",
              "      <td>Documentary</td>\n",
              "      <td>3932</td>\n",
              "    </tr>\n",
              "    <tr>\n",
              "      <th>8</th>\n",
              "      <td>Adventure</td>\n",
              "      <td>3496</td>\n",
              "    </tr>\n",
              "    <tr>\n",
              "      <th>9</th>\n",
              "      <td>Science Fiction</td>\n",
              "      <td>3049</td>\n",
              "    </tr>\n",
              "  </tbody>\n",
              "</table>\n",
              "</div>"
            ],
            "text/plain": [
              "             genre  movies\n",
              "0            Drama   20265\n",
              "1           Comedy   13182\n",
              "2         Thriller    7624\n",
              "3          Romance    6735\n",
              "4           Action    6596\n",
              "5           Horror    4673\n",
              "6            Crime    4307\n",
              "7      Documentary    3932\n",
              "8        Adventure    3496\n",
              "9  Science Fiction    3049"
            ]
          },
          "metadata": {},
          "execution_count": 101
        }
      ]
    },
    {
      "cell_type": "code",
      "metadata": {
        "colab": {
          "base_uri": "https://localhost:8080/",
          "height": 441
        },
        "id": "X7FR4RcQs3F5",
        "outputId": "63d487db-8284-4208-a456-d60336241016"
      },
      "source": [
        "plt.figure(figsize=(18,8))\n",
        "sns.barplot(x='genre', y='movies', data=pop_gen.head(15))\n",
        "plt.show()"
      ],
      "execution_count": null,
      "outputs": [
        {
          "output_type": "display_data",
          "data": {
            "image/png": "[encoded data removed]",
            "text/plain": [
              "<Figure size 1296x576 with 1 Axes>"
            ]
          },
          "metadata": {}
        }
      ]
    },
    {
      "cell_type": "markdown",
      "metadata": {
        "id": "BlyPHNkEs8L6"
      },
      "source": [
        "**Drama** is the most commonly occurring genre with almost half the movies identifying itself as a drama film. **Comedy** comes in at a distant second with 25% of the movies having adequate doses of humor. Other major genres represented in the top 10 are Action, Horror, Crime, Mystery, Science Fiction, Animation and Fantasy."
      ]
    },
    {
      "cell_type": "markdown",
      "metadata": {
        "id": "IvkUbQKsvi0n"
      },
      "source": [
        "##### **actor:**\n",
        "Actors with the Highest Total Revenue"
      ]
    },
    {
      "cell_type": "code",
      "metadata": {
        "colab": {
          "base_uri": "https://localhost:8080/",
          "height": 422
        },
        "id": "BpfT-UA0vjSt",
        "outputId": "6cd33651-de14-4140-caed-d513520b6ce1"
      },
      "source": [
        "sns.set_style('whitegrid')\n",
        "plt.title('Actors with the Highest Total Revenue')\n",
        "cast_df.groupby('actor')['revenue'].sum().sort_values(ascending=False).head(10).plot(kind='bar')\n",
        "plt.show()"
      ],
      "execution_count": null,
      "outputs": [
        {
          "output_type": "display_data",
          "data": {
            "image/png": "[encoded data removed]",
            "text/plain": [
              "<Figure size 432x288 with 1 Axes>"
            ]
          },
          "metadata": {}
        }
      ]
    },
    {
      "cell_type": "markdown",
      "metadata": {
        "id": "Tu-Ng47Avzok"
      },
      "source": [
        "##### **director:**\n",
        "Directors with the Highest Total Revenue"
      ]
    },
    {
      "cell_type": "code",
      "metadata": {
        "colab": {
          "base_uri": "https://localhost:8080/",
          "height": 419
        },
        "id": "uFV4xkzVvxnV",
        "outputId": "2ecd452a-1112-44ef-a721-fd01b694606c"
      },
      "source": [
        "plt.title('Directors with the Highest Total Revenue')\n",
        "df.groupby('director')['revenue'].sum().sort_values(ascending=False).head(10).plot(kind='bar', colormap='autumn')\n",
        "plt.show()"
      ],
      "execution_count": null,
      "outputs": [
        {
          "output_type": "display_data",
          "data": {
            "image/png": "[encoded data removed]",
            "text/plain": [
              "<Figure size 432x288 with 1 Axes>"
            ]
          },
          "metadata": {}
        }
      ]
    },
    {
      "cell_type": "markdown",
      "metadata": {
        "id": "W0zY_7UyMRW_"
      },
      "source": [
        "### 3.B Dispersion and Outliers\n",
        "Box plot is a method for graphically depicting groups of numerical data through their quartiles. Box plots may also have lines extending vertically from the boxes (whiskers) indicating variability outside the upper and lower quartiles.\n",
        "\n",
        "Box plots are non-parametric: they display variation in samples of a statistical population without making any assumptions of the underlying statistical distribution. The spacings between the different parts of the box indicate the degree of dispersion (spread) and skewness in the data, and show outliers."
      ]
    },
    {
      "cell_type": "markdown",
      "metadata": {
        "id": "aOOjOY9pMS1R"
      },
      "source": [
        "### 3.C Correlations\n",
        "A correlation coefficient is a numerical measure of some type of correlation, meaning a statistical relationships between two variables.\n",
        "\n",
        "Several types of correlation coefficients exist, each with their own definition and own range of usability and characteristics. They have in common that they assume values in the range from −1 to +1, where +1 indicates the strongest possible agreement and −1 the strongest possible disagreement. By default Pandas adopts Pearson correlation."
      ]
    },
    {
      "cell_type": "markdown",
      "metadata": {
        "id": "XVl1aYw6jEgg"
      },
      "source": [
        "##### **popularity and vote average:**\n",
        "Do popularity and vote average share a tangible relationship? In other words, is there a strong positive correlation between these two quanitties? Let us visualise their relationship in the form of a scatterplot."
      ]
    },
    {
      "cell_type": "code",
      "metadata": {
        "colab": {
          "base_uri": "https://localhost:8080/",
          "height": 458
        },
        "id": "VftpJUJkjE9r",
        "outputId": "ae605bc0-9ca6-4bfa-f4da-e639f1ce633e"
      },
      "source": [
        "sns.jointplot(x='vote_average', y='popularity', data=df)"
      ],
      "execution_count": null,
      "outputs": [
        {
          "output_type": "execute_result",
          "data": {
            "text/plain": [
              "<seaborn.axisgrid.JointGrid at 0x7fb201e7a710>"
            ]
          },
          "metadata": {},
          "execution_count": 62
        },
        {
          "output_type": "display_data",
          "data": {
            "image/png": "[encoded data removed]",
            "text/plain": [
              "<Figure size 432x432 with 3 Axes>"
            ]
          },
          "metadata": {
            "needs_background": "light"
          }
        }
      ]
    },
    {
      "cell_type": "markdown",
      "metadata": {
        "id": "bYDm0aGVjYW1"
      },
      "source": [
        "Surprisingly, the Pearson Coefficient of the two aforementioned quantities is a measly **0.097** which suggests that **there is no tangible correlation**. In other words, popularity and vote average and independent quantities. It would be interesting to discover how TMDB assigns numerical popularity scores to its movies."
      ]
    },
    {
      "cell_type": "markdown",
      "metadata": {
        "id": "5OGEh0VZjeqy"
      },
      "source": [
        "##### **vote_average and vote_count:**"
      ]
    },
    {
      "cell_type": "code",
      "metadata": {
        "colab": {
          "base_uri": "https://localhost:8080/",
          "height": 458
        },
        "id": "8mfEfXqvje4Y",
        "outputId": "2654b52c-7956-411c-9d21-1ef73a7b3ad0"
      },
      "source": [
        "sns.jointplot(x='vote_average', y='vote_count', data=df)"
      ],
      "execution_count": null,
      "outputs": [
        {
          "output_type": "execute_result",
          "data": {
            "text/plain": [
              "<seaborn.axisgrid.JointGrid at 0x7fb20170d8d0>"
            ]
          },
          "metadata": {},
          "execution_count": 63
        },
        {
          "output_type": "display_data",
          "data": {
            "image/png": "[encoded data removed]",
            "text/plain": [
              "<Figure size 432x432 with 3 Axes>"
            ]
          },
          "metadata": {
            "needs_background": "light"
          }
        }
      ]
    },
    {
      "cell_type": "markdown",
      "metadata": {
        "id": "UeTifRFHjicz"
      },
      "source": [
        "There is a very small correlation between Vote Count and Vote Average. A large number of votes on a particular movie does not necessarily imply that the movie is good."
      ]
    },
    {
      "cell_type": "markdown",
      "metadata": {
        "id": "IO4KZlw1o_6b"
      },
      "source": [
        "##### **runtime and return:**"
      ]
    },
    {
      "cell_type": "code",
      "metadata": {
        "colab": {
          "base_uri": "https://localhost:8080/",
          "height": 495
        },
        "id": "4GuILEUlpDFK",
        "outputId": "8803d724-666f-4303-941b-6ccc397f4588"
      },
      "source": [
        "df_mat = df[(df['return'].notnull()) & (df['runtime'] > 0) & (df['return'] < 10)]\n",
        "sns.jointplot('return', 'runtime', data=df_mat)\n",
        "plt.show()"
      ],
      "execution_count": null,
      "outputs": [
        {
          "output_type": "stream",
          "name": "stderr",
          "text": [
            "/usr/local/lib/python3.7/dist-packages/seaborn/_decorators.py:43: FutureWarning: Pass the following variables as keyword args: x, y. From version 0.12, the only valid positional argument will be `data`, and passing other arguments without an explicit keyword will result in an error or misinterpretation.\n",
            "  FutureWarning\n"
          ]
        },
        {
          "output_type": "display_data",
          "data": {
            "image/png": "[encoded data removed]",
            "text/plain": [
              "<Figure size 432x432 with 3 Axes>"
            ]
          },
          "metadata": {
            "needs_background": "light"
          }
        }
      ]
    },
    {
      "cell_type": "markdown",
      "metadata": {
        "id": "-SyiyvM4pIIi"
      },
      "source": [
        "There seems to be relationship between the two quantities. **The duration of a movie is independent of its success.** x"
      ]
    },
    {
      "cell_type": "markdown",
      "metadata": {
        "id": "AEJ06n7JpRKr"
      },
      "source": [
        "##### **runtime and budget:**\n",
        " However, I have a feeling this might not be the case with duration and budget. A longer movie should entail a higher budget. Let us find out if this is really the case."
      ]
    },
    {
      "cell_type": "code",
      "metadata": {
        "colab": {
          "base_uri": "https://localhost:8080/",
          "height": 495
        },
        "id": "KLDODoF1pobI",
        "outputId": "e5b05245-464b-475e-9abb-24030279bda7"
      },
      "source": [
        "df_mat = df[(df['budget'].notnull()) & (df['runtime'] > 0)]\n",
        "sns.jointplot('budget', 'runtime', data=df_mat)\n",
        "plt.show()"
      ],
      "execution_count": null,
      "outputs": [
        {
          "output_type": "stream",
          "name": "stderr",
          "text": [
            "/usr/local/lib/python3.7/dist-packages/seaborn/_decorators.py:43: FutureWarning: Pass the following variables as keyword args: x, y. From version 0.12, the only valid positional argument will be `data`, and passing other arguments without an explicit keyword will result in an error or misinterpretation.\n",
            "  FutureWarning\n"
          ]
        },
        {
          "output_type": "display_data",
          "data": {
            "image/png": "[encoded data removed]",
            "text/plain": [
              "<Figure size 432x432 with 3 Axes>"
            ]
          },
          "metadata": {
            "needs_background": "light"
          }
        }
      ]
    },
    {
      "cell_type": "markdown",
      "metadata": {
        "id": "BlAvDI96ptiC"
      },
      "source": [
        "The two quantities have a much weaker correlation than I had expected. In retrospect, the genre of the movie tends to have a much greater impact on budget. A 3 hour art film will cost significantly lesser than a 90 minute Sci-Fi movie. "
      ]
    },
    {
      "cell_type": "markdown",
      "metadata": {
        "id": "lb5cVXNhqzhf"
      },
      "source": [
        "##### **budget and revenue:**\n",
        "How strong a correlation does the budget hold with the revenue? A stronger correlation would directly imply more accurate forecasts."
      ]
    },
    {
      "cell_type": "code",
      "metadata": {
        "colab": {
          "base_uri": "https://localhost:8080/",
          "height": 458
        },
        "id": "ADWVhdVVq9_Y",
        "outputId": "6b1d839c-b5c4-46e4-a70a-9b32b8853148"
      },
      "source": [
        "sns.jointplot(x='budget',y='revenue',data=df[df['return'].notnull()])"
      ],
      "execution_count": null,
      "outputs": [
        {
          "output_type": "execute_result",
          "data": {
            "text/plain": [
              "<seaborn.axisgrid.JointGrid at 0x7fb1de97c050>"
            ]
          },
          "metadata": {},
          "execution_count": 87
        },
        {
          "output_type": "display_data",
          "data": {
            "image/png": "[encoded data removed]",
            "text/plain": [
              "<Figure size 432x432 with 3 Axes>"
            ]
          },
          "metadata": {
            "needs_background": "light"
          }
        }
      ]
    },
    {
      "cell_type": "markdown",
      "metadata": {
        "id": "0tMSVeL8rFuY"
      },
      "source": [
        "The pearson r value of **0.73** between the two quantities indicates a very strong correlation. "
      ]
    },
    {
      "cell_type": "markdown",
      "metadata": {
        "id": "-vZPGUc7r0JB"
      },
      "source": [
        "##### **correlation matrix:**"
      ]
    },
    {
      "cell_type": "code",
      "metadata": {
        "id": "Kv04cxvir36m"
      },
      "source": [
        "df['year'] = df['year'].replace('NaT', np.nan)"
      ],
      "execution_count": null,
      "outputs": []
    },
    {
      "cell_type": "code",
      "metadata": {
        "id": "br8q1_0hr7jf"
      },
      "source": [
        "df['year'] = df['year'].apply(clean_numeric)"
      ],
      "execution_count": null,
      "outputs": []
    },
    {
      "cell_type": "code",
      "metadata": {
        "colab": {
          "base_uri": "https://localhost:8080/",
          "height": 592
        },
        "id": "KVVk0m6er9e9",
        "outputId": "cb370841-17c4-4ae9-acd5-e78b7c56a53b"
      },
      "source": [
        "sns.set(font_scale=1)\n",
        "corr = df.corr()\n",
        "mask = np.zeros_like(corr)\n",
        "mask[np.triu_indices_from(mask)] = True\n",
        "with sns.axes_style(\"white\"):\n",
        "    plt.figure(figsize=(9,9))\n",
        "    ax = sns.heatmap(corr, mask=mask, vmax=.3, square=True, annot=True)"
      ],
      "execution_count": null,
      "outputs": [
        {
          "output_type": "display_data",
          "data": {
            "image/png": "[encoded data removed]",
            "text/plain": [
              "<Figure size 648x648 with 2 Axes>"
            ]
          },
          "metadata": {}
        }
      ]
    },
    {
      "cell_type": "code",
      "metadata": {
        "id": "vIjXTm39sK-Q"
      },
      "source": [
        "sns.set(font_scale=1.25)"
      ],
      "execution_count": null,
      "outputs": []
    },
    {
      "cell_type": "markdown",
      "metadata": {
        "id": "jX-dUsRIYmkV"
      },
      "source": [
        "# Regression: Predicting Movie Revenues"
      ]
    },
    {
      "cell_type": "code",
      "metadata": {
        "colab": {
          "base_uri": "https://localhost:8080/"
        },
        "id": "K3tJ0S9Ww1OW",
        "outputId": "00c5ffff-7c87-4ee1-b863-069a77533955"
      },
      "source": [
        "rgf = df[df['return'].notnull()]\n",
        "rgf.shape"
      ],
      "execution_count": null,
      "outputs": [
        {
          "output_type": "execute_result",
          "data": {
            "text/plain": [
              "(5393, 31)"
            ]
          },
          "metadata": {},
          "execution_count": 117
        }
      ]
    },
    {
      "cell_type": "markdown",
      "metadata": {
        "id": "uo63gwg9w5ze"
      },
      "source": [
        "We have **5393 records** in our training set. Let us take a look at the features we possess and remove the ones which are unnecessary."
      ]
    },
    {
      "cell_type": "code",
      "metadata": {
        "colab": {
          "base_uri": "https://localhost:8080/"
        },
        "id": "nMqdbItpw4p5",
        "outputId": "772061b9-ba6e-49dd-f672-6e12e9c678d1"
      },
      "source": [
        "rgf.columns"
      ],
      "execution_count": null,
      "outputs": [
        {
          "output_type": "execute_result",
          "data": {
            "text/plain": [
              "Index(['belongs_to_collection', 'budget', 'genres', 'homepage', 'id',\n",
              "       'imdb_id', 'original_language', 'overview', 'popularity', 'poster_path',\n",
              "       'production_companies', 'production_countries', 'release_date',\n",
              "       'revenue', 'runtime', 'spoken_languages', 'status', 'tagline', 'title',\n",
              "       'video', 'vote_average', 'vote_count', 'return', 'year', 'day', 'month',\n",
              "       'cast', 'crew', 'cast_size', 'crew_size', 'director'],\n",
              "      dtype='object')"
            ]
          },
          "metadata": {},
          "execution_count": 118
        }
      ]
    },
    {
      "cell_type": "code",
      "metadata": {
        "id": "3stuZU5tw-hF"
      },
      "source": [
        "rgf = rgf.drop(['id', 'overview', 'poster_path', 'release_date', 'status', 'tagline', 'video', 'return', 'crew'], axis=1)"
      ],
      "execution_count": null,
      "outputs": []
    },
    {
      "cell_type": "markdown",
      "metadata": {
        "id": "Q_2MccSPxEJc"
      },
      "source": [
        "**Feature engineering:**\n",
        "\n",
        "1. **belongs_to_collection** will be turned into a Boolean variable. 1 indicates a movie is a part of collection whereas 0 indicates it is not.\n",
        "2. **genres** will be converted into number of genres.\n",
        "3. **homepage** will be converted into a Boolean variable that will indicate if a movie has a homepage or not.\n",
        "4. **original_language** will be replaced by a feature called **is_foreign** to denote if a particular film is in English or a Foreign Language.\n",
        "5. **production_companies** will be replaced with just the number of production companies collaborating to make the movie.\n",
        "6. **production_countries** will be replaced with the number of countries the film was shot in.\n",
        "7. **day** will be converted into a binary feature to indicate if the film was released on a Friday.\n",
        "8. **month** will be converted into a variable that indicates if the month was a holiday season."
      ]
    },
    {
      "cell_type": "code",
      "metadata": {
        "colab": {
          "base_uri": "https://localhost:8080/"
        },
        "id": "boJWyfK-xJUX",
        "outputId": "d1e9409b-7f40-4fca-d4ce-03044cfe3ab9"
      },
      "source": [
        "s = rgf.apply(lambda x: pd.Series(x['genres']),axis=1).stack().reset_index(level=1, drop=True)\n",
        "s.name = 'genre'\n",
        "gen_rgf = rgf.drop('genres', axis=1).join(s)\n",
        "genres_train = gen_rgf['genre'].drop_duplicates()"
      ],
      "execution_count": null,
      "outputs": [
        {
          "output_type": "stream",
          "name": "stderr",
          "text": [
            "/usr/local/lib/python3.7/dist-packages/ipykernel_launcher.py:1: DeprecationWarning: The default dtype for empty Series will be 'object' instead of 'float64' in a future version. Specify a dtype explicitly to silence this warning.\n",
            "  \"\"\"Entry point for launching an IPython kernel.\n"
          ]
        }
      ]
    },
    {
      "cell_type": "code",
      "metadata": {
        "id": "BViXVCyHxMca"
      },
      "source": [
        "def feature_engineering(df):\n",
        "    df['belongs_to_collection'] = df['belongs_to_collection'].apply(lambda x: 0 if x == np.nan else 1)\n",
        "    for genre in genres_train:\n",
        "        df['is_' + str(genre)] = df['genres'].apply(lambda x: 1 if genre in x else 0)\n",
        "    df['genres'] = df['genres'].apply(lambda x: len(x))\n",
        "    df['homepage'] = df['homepage'].apply(lambda x: 0 if x == np.nan else 1)\n",
        "    df['is_english'] = df['original_language'].apply(lambda x: 1 if x=='en' else 0)\n",
        "    df = df.drop('original_language', axis=1)\n",
        "    df['production_companies'] = df['production_companies'].apply(lambda x: len(x))\n",
        "    df['production_countries'] = df['production_countries'].apply(lambda x: len(x))\n",
        "    df['is_Friday'] = df['day'].apply(lambda x: 1 if x=='Fri' else 0)\n",
        "    df = df.drop('day', axis=1)\n",
        "    df['is_Holiday'] = df['month'].apply(lambda x: 1 if x in ['Apr', 'May', 'Jun', 'Nov'] else 0)\n",
        "    df = df.drop('month', axis=1)\n",
        "    df = df.drop(['title', 'cast', 'director'], axis=1)\n",
        "    df = pd.get_dummies(df, prefix='is')\n",
        "    df['runtime'] = df['runtime'].fillna(df['runtime'].mean())\n",
        "    df['vote_average'] = df['vote_average'].fillna(df['vote_average'].mean())\n",
        "    return df"
      ],
      "execution_count": null,
      "outputs": []
    },
    {
      "cell_type": "code",
      "metadata": {
        "id": "NFpXExAvxQHI"
      },
      "source": [
        "X, y = rgf.drop('revenue', axis=1), rgf['revenue']"
      ],
      "execution_count": null,
      "outputs": []
    },
    {
      "cell_type": "code",
      "metadata": {
        "id": "sfVn0QbMxWYm"
      },
      "source": [
        "X = feature_engineering(X)"
      ],
      "execution_count": null,
      "outputs": []
    },
    {
      "cell_type": "code",
      "metadata": {
        "id": "0f2CBzqlxYye"
      },
      "source": [
        "train_X, test_X, train_y, test_y = train_test_split(X, y, train_size=0.75, test_size=0.25)"
      ],
      "execution_count": null,
      "outputs": []
    },
    {
      "cell_type": "code",
      "metadata": {
        "colab": {
          "base_uri": "https://localhost:8080/"
        },
        "id": "s_D92fxpxbwL",
        "outputId": "ad54afef-ad19-45fa-a3c0-4049f53d5385"
      },
      "source": [
        "X.shape"
      ],
      "execution_count": null,
      "outputs": [
        {
          "output_type": "execute_result",
          "data": {
            "text/plain": [
              "(5393, 5413)"
            ]
          },
          "metadata": {},
          "execution_count": 128
        }
      ]
    },
    {
      "cell_type": "code",
      "metadata": {
        "colab": {
          "base_uri": "https://localhost:8080/"
        },
        "id": "6V8WRSr3xlH7",
        "outputId": "98c1119b-e716-4e54-a4e3-660dff303929"
      },
      "source": [
        "reg = GradientBoostingRegressor()\n",
        "reg.fit(train_X, train_y)\n",
        "reg.score(test_X, test_y)"
      ],
      "execution_count": null,
      "outputs": [
        {
          "output_type": "execute_result",
          "data": {
            "text/plain": [
              "0.7745260607627771"
            ]
          },
          "metadata": {},
          "execution_count": 131
        }
      ]
    },
    {
      "cell_type": "markdown",
      "metadata": {
        "id": "mhvnky0Pxx9_"
      },
      "source": [
        "We get a Coefficient of Determination of **0.78** which is a pretty score for the basic model that we have built. Let us compare our model's score to a Dummy Regressor."
      ]
    },
    {
      "cell_type": "code",
      "metadata": {
        "colab": {
          "base_uri": "https://localhost:8080/"
        },
        "id": "VprF1cbXx1jZ",
        "outputId": "8b6af3d3-eb85-410d-b85f-97646015c252"
      },
      "source": [
        "dummy = DummyRegressor()\n",
        "dummy.fit(train_X, train_y)\n",
        "dummy.score(test_X, test_y)"
      ],
      "execution_count": null,
      "outputs": [
        {
          "output_type": "execute_result",
          "data": {
            "text/plain": [
              "-0.0001471229313003697"
            ]
          },
          "metadata": {},
          "execution_count": 135
        }
      ]
    },
    {
      "cell_type": "markdown",
      "metadata": {
        "id": "bBOKsvyhx6e6"
      },
      "source": [
        "We see that our model performs far more superiorly than the Dummy Regressor. Finally, let us plot the feature importances in the form of a bar plot to deduce which features were the most significant in our making predictions."
      ]
    },
    {
      "cell_type": "code",
      "metadata": {
        "colab": {
          "base_uri": "https://localhost:8080/",
          "height": 729
        },
        "id": "Y24ea9aBx--1",
        "outputId": "b7d412a4-61aa-466a-f5fb-bc67a80d65a9"
      },
      "source": [
        "sns.set_style('whitegrid')\n",
        "plt.figure(figsize=(10,12))\n",
        "sns.barplot(x=reg.feature_importances_, y=X.columns)"
      ],
      "execution_count": null,
      "outputs": [
        {
          "output_type": "execute_result",
          "data": {
            "text/plain": [
              "<matplotlib.axes._subplots.AxesSubplot at 0x7fb1b34ee610>"
            ]
          },
          "metadata": {},
          "execution_count": 136
        },
        {
          "output_type": "display_data",
          "data": {
            "image/png": "[encoded data removed]",
            "text/plain": [
              "<Figure size 720x864 with 1 Axes>"
            ]
          },
          "metadata": {}
        }
      ]
    },
    {
      "cell_type": "markdown",
      "metadata": {
        "id": "ZR1i2_rpyB49"
      },
      "source": [
        "We notice that **vote_count**, a feature we *cheated* with, is the most important feature to our Gradient Boosting Model. This goes on to show the improtance of popularity metrics in determining the revenue of a movie. **Budget** was the second most important feature followed by **Popularity** (Literally, a popularity metric) and **Crew Size**."
      ]
    }
  ]
}